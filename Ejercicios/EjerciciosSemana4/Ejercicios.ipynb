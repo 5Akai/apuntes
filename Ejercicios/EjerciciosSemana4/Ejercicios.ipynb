{
 "cells": [
  {
   "cell_type": "code",
   "execution_count": null,
   "metadata": {},
   "outputs": [],
   "source": [
    "# Requerimientos Funcionales\n",
    "\n",
    "# -> Retorna el resultado de un cálculo solicitado sobre dos números\n",
    "\n",
    "#   argumentos o parámetros: posición 0: un número, Posición 1: un número, Posición 2: Operación a realizar\n",
    "#   Operaciones: (Sum, res, div, mul)\n",
    "\n",
    "# Si no se indica operación a realizar, por defecto se realiza la suma.\n",
    "\n",
    "# Si alguno de los argumentos no son válidos, indicaremos que la operación no se puede realizar(Mensaje operativa no válida).\n",
    " "
   ]
  },
  {
   "cell_type": "markdown",
   "metadata": {},
   "source": [
    "# Ejercicio 1\n",
    "<b>-> Retorna el resultado de un cálculo solicitado sobre dos números</b>\n",
    "<b>argumentos o parámetros: posición 0: un número, Posición 1: un número, Posición 2: Operación a realizar</b>\n",
    "<b></b>\n",
    "<b></b>"
   ]
  },
  {
   "cell_type": "code",
   "execution_count": 3,
   "metadata": {},
   "outputs": [
    {
     "name": "stdout",
     "output_type": "stream",
     "text": [
      "1 + 1 = 2\n"
     ]
    }
   ],
   "source": [
    "\n",
    "def sum(a,b):\n",
    "   return a + b\n",
    "def res(a,b):\n",
    "   return a - b\n",
    "def mul(a,b):\n",
    "   return a * b\n",
    "def div(a,b):\n",
    "   return a / b\n",
    "\n",
    "a = int(input(\"Introduce el primer número: \"))\n",
    "b = int(input(\"Introduce el segundo número: \"))\n",
    "calc = input(\"Introduce el cálculo a realizar: \")\n",
    "\n",
    "if calc == \"suma\":\n",
    "   print(f\"{a} + {b} = {sum(a,b)}\")\n",
    "\n",
    "elif calc == \"resta\":\n",
    "   print(f\"{a} - {b} = {res(a,b)}\")\n",
    "\n",
    "elif calc == \"multiplicacion\":\n",
    "   print(f\"{a} X {b} = {mul(a,b)}\")\n",
    "\n",
    "elif calc == \"division\":\n",
    "   print(f\"{a} entre {b} = {div(a,b)}\")\n",
    "\n",
    "else:\n",
    "   print(f\"{a} + {b} = {sum(a,b)}\")\n",
    "\n"
   ]
  }
 ],
 "metadata": {
  "kernelspec": {
   "display_name": "Python 3",
   "language": "python",
   "name": "python3"
  },
  "language_info": {
   "codemirror_mode": {
    "name": "ipython",
    "version": 3
   },
   "file_extension": ".py",
   "mimetype": "text/x-python",
   "name": "python",
   "nbconvert_exporter": "python",
   "pygments_lexer": "ipython3",
   "version": "3.12.3"
  }
 },
 "nbformat": 4,
 "nbformat_minor": 2
}
