{
 "cells": [
  {
   "cell_type": "markdown",
   "metadata": {},
   "source": [
    "# Asignación Simultanea"
   ]
  },
  {
   "cell_type": "code",
   "execution_count": 1,
   "metadata": {},
   "outputs": [
    {
     "name": "stdout",
     "output_type": "stream",
     "text": [
      "A: 10\n",
      "B: 5\n"
     ]
    }
   ],
   "source": [
    "#Declaramos variables\n",
    "a = 5\n",
    "b = 10\n",
    "\n",
    "#almacenar valores\n",
    "temp = a\n",
    "\n",
    "#intercambiar valores\n",
    "\n",
    "\n",
    "a = b\n",
    "b = temp\n",
    "\n",
    "\n",
    "print(f\"A: {a}\")\n",
    "\n",
    "print(f\"B: {b}\")"
   ]
  },
  {
   "cell_type": "markdown",
   "metadata": {},
   "source": [
    "# Conversión de variables"
   ]
  },
  {
   "cell_type": "code",
   "execution_count": 2,
   "metadata": {},
   "outputs": [
    {
     "name": "stdout",
     "output_type": "stream",
     "text": [
      "A ahora mismo es float.\n",
      "A = <class 'float'> \n",
      "\n",
      "A se ha convertido a string.\n",
      "A = <class 'str'> \n",
      "\n",
      "También se puede convertir y almacenar en otra variable.\n",
      "Por ejemplo, el valor A se ha convertido a float y almacenado en flotante.  Flotante = <class 'float'> \n",
      "\n",
      "También podemos convertir A en float de nuevo.\n",
      "A = <class 'float'> \n",
      "\n",
      "Pero nos da igual, porque podemos imprimirlo y transformarlo a la vez con type(str(a))\n",
      " A = <class 'str'> \n",
      "\n",
      "El poder de un dios en manos de unos ilusos.\n"
     ]
    }
   ],
   "source": [
    "#Declaramo\n",
    "\n",
    "a = 5.3\n",
    "b = \"25\"\n",
    "c = \"25.7\"\n",
    "d = \"a 8.4\"\n",
    "\n",
    "#Conversiones alfanuméricas con STR y numéricas con INT o FLOAT\n",
    "print(\"A ahora mismo es float.\")\n",
    "print(\"A =\", type(a), \"\\n\")\n",
    "a = str(a)\n",
    "print(\"A se ha convertido a string.\")\n",
    "print(\"A =\", type(a), \"\\n\")\n",
    "\n",
    "flotante = float(a)\n",
    "print(\"También se puede convertir y almacenar en otra variable.\")\n",
    "print(\"Por ejemplo, el valor A se ha convertido a float y almacenado en flotante.  Flotante =\", type(flotante), \"\\n\")\n",
    "\n",
    "a = float(a)\n",
    "print(\"También podemos convertir A en float de nuevo.\")\n",
    "print(\"A =\", type(a), \"\\n\")\n",
    "\n",
    "print(\"Pero nos da igual, porque podemos imprimirlo y transformarlo a la vez con\",'type(str(a))\\n',\"A =\", type(str(a)), \"\\n\")\n",
    "\n",
    "print(\"El poder de un dios en manos de unos ilusos.\")"
   ]
  },
  {
   "cell_type": "markdown",
   "metadata": {},
   "source": [
    "No se puede convertir letras a formatos de números, como float, lógicamente"
   ]
  },
  {
   "cell_type": "markdown",
   "metadata": {},
   "source": [
    "# Trabajando y formateando cadenas"
   ]
  },
  {
   "cell_type": "code",
   "execution_count": 3,
   "metadata": {},
   "outputs": [
    {
     "name": "stdout",
     "output_type": "stream",
     "text": [
      "Holamundo !!!1!\n",
      "Longitud de la cadena: 15\n",
      "Posicion 0: H Posicion 1: o Posicion 2: l Posicion 3: a Posicion 4: m Posicion -11: m Posicion -2: 1 Posicion -1: !\n",
      "desde la posición 0 a la 5(2 y 6 no incluida): lamu\n",
      "Todo minúscula con .lower: holamundo !!!1!\n",
      "Todo mayúscula con .upper: HOLAMUNDO !!!1!\n",
      "Contar cuanto hay con .count, pej letras o: 2\n",
      "Indicar si es todo dígitos: False\n",
      "Aquí indicamos si el valor 14 es todo dígitos: True\n"
     ]
    }
   ],
   "source": [
    "#Declaración de Variables\n",
    "\n",
    "Texto = \"Holamundo !!!1!\"\n",
    "\n",
    "print(Texto)\n",
    "\n",
    "# Mostrar determinados caractéres de la cadena, indicando posición o Rango\n",
    "\n",
    "#Para esta chamba mejor saber la longitud de la cadena (lenght)\n",
    "print(\"Longitud de la cadena:\", len(Texto))\n",
    "\n",
    "# Las posiciones empiezan por 0, para mostrar el orden inverso, osea las ultimas se pone un menos (-) \n",
    "print(f\"Posicion 0: {Texto[0]}\", f\"Posicion 1: {Texto[1]}\", f\"Posicion 2: {Texto[2]}\", f\"Posicion 3: {Texto[3]}\", f\"Posicion 4: {Texto[4]}\", f\"Posicion -11: {Texto[-11]}\", f\"Posicion -2: {Texto[-2]}\", f\"Posicion -1: {Texto[-1]}\")\n",
    "\n",
    "print(f\"desde la posición 0 a la 5(2 y 6 no incluida): {Texto[2:6]}\")\n",
    "\n",
    "print(f\"Todo minúscula con .lower: {Texto.lower()}\")\n",
    "print(f\"Todo mayúscula con .upper: {Texto.upper()}\")\n",
    "\n",
    "print(f\"Contar cuanto hay con .count, pej letras o: { Texto.count(\"o\")}\")\n",
    "\n",
    "print(f\"Indicar si es todo dígitos: {Texto.isdigit()}\")\n",
    "print(f\"Aquí indicamos si el valor 14 es todo dígitos: {\"14\".isdigit()}\")\n"
   ]
  },
  {
   "cell_type": "markdown",
   "metadata": {},
   "source": [
    "# Formatear cadenas de texto y números"
   ]
  },
  {
   "cell_type": "code",
   "execution_count": 4,
   "metadata": {},
   "outputs": [
    {
     "name": "stdout",
     "output_type": "stream",
     "text": [
      "Hola Mundo !!!\n",
      "Hola Mundo !!!\n",
      "Hola Mundo !!!\n",
      "Hola Mundo !!!\n",
      "Resultado: 3.3333333333333335\n",
      "Resultado: 3.3333333333333335\n",
      "Resultado: 3.3333333333333335\n",
      "Resultado 2 cifras: 3.33\n",
      "Resultado 5 cifras: 3.33333\n"
     ]
    }
   ],
   "source": [
    "mensaje = \"Mundo\"\n",
    "\n",
    "print(\"Hola \" + mensaje + \" !!!\")\n",
    "print(\"Hola {s} !!!\".format(s = mensaje))\n",
    "print(\"Hola {} !!!\".format(mensaje))\n",
    "print(f\"Hola {mensaje} !!!\")\n",
    "\n",
    "resultado = 10 / 3\n",
    "print(\"Resultado: \" + str(resultado))\n",
    "print(f\"Resultado: {resultado}\")\n",
    "print(\"Resultado: {r}\".format(r=resultado))\n",
    "#:1.nf es para que haya n cantidad de cifras en el resultado\n",
    "print(\"Resultado 2 cifras: {r:1.2f}\".format(r=resultado))\n",
    "print(\"Resultado 5 cifras: {r:3.5f}\".format(r=resultado))"
   ]
  },
  {
   "cell_type": "markdown",
   "metadata": {},
   "source": [
    "# Fechas y Tempo"
   ]
  },
  {
   "cell_type": "code",
   "execution_count": 5,
   "metadata": {},
   "outputs": [
    {
     "name": "stdout",
     "output_type": "stream",
     "text": [
      "Fecha:  2024-04-29\n"
     ]
    },
    {
     "ename": "NameError",
     "evalue": "name 'hora1' is not defined",
     "output_type": "error",
     "traceback": [
      "\u001b[1;31m---------------------------------------------------------------------------\u001b[0m",
      "\u001b[1;31mNameError\u001b[0m                                 Traceback (most recent call last)",
      "Cell \u001b[1;32mIn[5], line 14\u001b[0m\n\u001b[0;32m     11\u001b[0m \u001b[38;5;66;03m#Same shit con la hora\u001b[39;00m\n\u001b[0;32m     13\u001b[0m Hora1 \u001b[38;5;241m=\u001b[39m datetime\u001b[38;5;241m.\u001b[39mnow()\n\u001b[1;32m---> 14\u001b[0m \u001b[38;5;28mprint\u001b[39m(\u001b[38;5;124m\"\u001b[39m\u001b[38;5;124mHora:\u001b[39m\u001b[38;5;124m\"\u001b[39m, \u001b[43mhora1\u001b[49m)\n\u001b[0;32m     16\u001b[0m \u001b[38;5;66;03m#Mostramos parete de la fecha almacenada\u001b[39;00m\n\u001b[0;32m     17\u001b[0m \u001b[38;5;66;03m#zfill es una función de los string, por eso lo convertimos. Lo que hace es añadir ceros al principio de la cadena, hasta que llega a la longitud especificada en la función, en el caso de los ejemplos, 2\u001b[39;00m\n\u001b[0;32m     20\u001b[0m \u001b[38;5;28mprint\u001b[39m(\u001b[38;5;124mf\u001b[39m\u001b[38;5;124m\"\u001b[39m\u001b[38;5;124mDía: \u001b[39m\u001b[38;5;132;01m{\u001b[39;00mHora1\u001b[38;5;241m.\u001b[39mday\u001b[38;5;132;01m}\u001b[39;00m\u001b[38;5;124m\"\u001b[39m)\n",
      "\u001b[1;31mNameError\u001b[0m: name 'hora1' is not defined"
     ]
    }
   ],
   "source": [
    "#Importar Librerías de fecha y hora\n",
    "from datetime import datetime\n",
    "\n",
    "\n",
    "#Toma la fecha en el momento que se ejecuta la línea de código, lo toma de la fecha y hora del sistema, btw\n",
    "\n",
    "Fecha1 = datetime.now().date()\n",
    "print(\"Fecha: \", Fecha1)\n",
    "\n",
    "\n",
    "#Same shit con la hora\n",
    "\n",
    "Hora1 = datetime.now()\n",
    "print(\"Hora:\", hora1)\n",
    "\n",
    "#Mostramos parete de la fecha almacenada\n",
    "#zfill es una función de los string, por eso lo convertimos. Lo que hace es añadir ceros al principio de la cadena, hasta que llega a la longitud especificada en la función, en el caso de los ejemplos, 2\n",
    "\n",
    "\n",
    "print(f\"Día: {Hora1.day}\")\n",
    "print(f\"Día: {str(Hora1.day).zfill(2)}\")\n",
    "print(f\"MEs: {Hora1.month}\")\n",
    "print(f\"Mes: {str(Hora1.month).zfill(2)}\")\n",
    "print(f\"Año: {Hora1.year}\")\n",
    "print(f\"Año: {str(Hora1.year).zfill(2)}\")\n",
    "print(f\"Hora: {Hora1.hour}\")\n",
    "print(f\"Minutos: {Hora1.minute}\")\n",
    "print(f\"Segundos: {Hora1.second}\")\n",
    "print(f\"Milisegundos: {Hora1.microsecond}\")"
   ]
  },
  {
   "cell_type": "markdown",
   "metadata": {},
   "source": [
    "Convertir un texto a una fecha utilizando STRPTIME"
   ]
  },
  {
   "cell_type": "code",
   "execution_count": null,
   "metadata": {},
   "outputs": [
    {
     "name": "stdout",
     "output_type": "stream",
     "text": [
      "Fecha2: 2024-04-25\n",
      "2000-08-10\n",
      "2024-04-25\n",
      "tienes 24 años\n",
      "\n",
      "tienes 24.format años\n",
      "\n",
      "Tienes 23.723287671232878 años.\n",
      "Tienes 23 años.\n",
      "(23, 264)\n",
      "Tienes 23 años y 264 días\n",
      "\n",
      "8659 days, 0:00:00\n"
     ]
    }
   ],
   "source": [
    "from datetime import datetime\n",
    "from datetime import date\n",
    "\n",
    "\n",
    "ahora = datetime.now().date()\n",
    "fecha = input(\"Escribe tu fecha de nacimiento, jeje uwu  (dd-mm-aaaa): \")\n",
    "dt = datetime.strptime(fecha,\"%d-%m-%Y\").date()\n",
    "print(f\"Fecha2: {ahora}\")\n",
    "print(dt)\n",
    "print(ahora)\n",
    "dtr = ahora - dt\n",
    "dtr2 = ahora.year - dt.year\n",
    "print(f\"tienes {ahora.year - dt.year} años\\n\")\n",
    "\n",
    "print(f\"tienes {dtr2}.format años\\n\")\n",
    "\n",
    "\n",
    "#Opción 2\n",
    "\n",
    "print(f\"Tienes {dtr.days / 365} años.\")  # División con parte decimal\n",
    "print(f\"Tienes {dtr.days // 365} años.\") # División SIN parte decimal\n",
    "\n",
    "#Opción 3\n",
    "edad = (divmod(dtr.days, 365))      # Devuelve el resulto y el resto y los guarda en una tupla\n",
    "\n",
    "\n",
    "\n",
    "print(edad)\n",
    "\n",
    "print(f\"Tienes {edad[0]} años y {edad[1]} días\")\n",
    "\n",
    "print(\"\")\n",
    "print(dtr)\n"
   ]
  },
  {
   "cell_type": "code",
   "execution_count": null,
   "metadata": {},
   "outputs": [],
   "source": [
    "##instalar cosas pq se ralla, ya de paso así se ejecutan comandos ojo!\n",
    "import sys\n",
    "!{sys.executable} -m pip install --upgrade pip\n",
    "!{sys.executable} -m pip install pytz"
   ]
  },
  {
   "cell_type": "code",
   "execution_count": null,
   "metadata": {},
   "outputs": [
    {
     "name": "stdout",
     "output_type": "stream",
     "text": [
      "1714116179.0755963\n",
      "segundo desde 01-01-1970: 1714116179.0755963 \n",
      "\n",
      "Tupla: time.struct_time(tm_year=2024, tm_mon=4, tm_mday=26, tm_hour=9, tm_min=22, tm_sec=59, tm_wday=4, tm_yday=117, tm_isdst=1)\n",
      "Año: 2024 \n",
      "\n",
      "Fecha: Fri Apr 26 09:22:59 2024 \n",
      "\n"
     ]
    }
   ],
   "source": [
    "from datetime import datetime\n",
    "\n",
    "import time\n",
    "import locale\n",
    "\n",
    "locale.setlocale(locale.LC_TIME, \"es_ES.UTF-8\")\n",
    "\n",
    "\n",
    "#Time retorna la cantidad de segundos transcuridos desde el comienzo que se fijea en el 1 de enero de 1970 a las 00:00\n",
    "t1 = time.time()\n",
    "\n",
    "print(t1)\n",
    "\n",
    "print(f\"segundo desde 01-01-1970: {t1} \\n\")\n",
    "\n",
    "#Transformación de segundos en fecha\n",
    "\n",
    "t2 = time.localtime(t1)\n",
    "print(f\"Tupla: {t2}\")\n",
    "print(f\"Año: {t2.tm_year} \\n\")\n",
    "\n",
    "\n",
    "#Conversión de T2 en una representación de fecha y hora local\n",
    "\n",
    "print(f\"Fecha: {time.asctime(t2)} \\n\")"
   ]
  },
  {
   "cell_type": "markdown",
   "metadata": {},
   "source": [
    "Diferentes zonas horarias   "
   ]
  },
  {
   "cell_type": "code",
   "execution_count": null,
   "metadata": {},
   "outputs": [
    {
     "name": "stdout",
     "output_type": "stream",
     "text": [
      "Requirement already satisfied: pip in c:\\users\\akai\\appdata\\local\\programs\\python\\python312\\lib\\site-packages (24.0)\n",
      "Requirement already satisfied: pytz in c:\\users\\akai\\appdata\\local\\programs\\python\\python312\\lib\\site-packages (2024.1)\n",
      "['Africa/Abidjan', 'Africa/Accra', 'Africa/Addis_Ababa', 'Africa/Algiers', 'Africa/Asmara', 'Africa/Asmera', 'Africa/Bamako', 'Africa/Bangui', 'Africa/Banjul', 'Africa/Bissau', 'Africa/Blantyre', 'Africa/Brazzaville', 'Africa/Bujumbura', 'Africa/Cairo', 'Africa/Casablanca', 'Africa/Ceuta', 'Africa/Conakry', 'Africa/Dakar', 'Africa/Dar_es_Salaam', 'Africa/Djibouti', 'Africa/Douala', 'Africa/El_Aaiun', 'Africa/Freetown', 'Africa/Gaborone', 'Africa/Harare', 'Africa/Johannesburg', 'Africa/Juba', 'Africa/Kampala', 'Africa/Khartoum', 'Africa/Kigali', 'Africa/Kinshasa', 'Africa/Lagos', 'Africa/Libreville', 'Africa/Lome', 'Africa/Luanda', 'Africa/Lubumbashi', 'Africa/Lusaka', 'Africa/Malabo', 'Africa/Maputo', 'Africa/Maseru', 'Africa/Mbabane', 'Africa/Mogadishu', 'Africa/Monrovia', 'Africa/Nairobi', 'Africa/Ndjamena', 'Africa/Niamey', 'Africa/Nouakchott', 'Africa/Ouagadougou', 'Africa/Porto-Novo', 'Africa/Sao_Tome', 'Africa/Timbuktu', 'Africa/Tripoli', 'Africa/Tunis', 'Africa/Windhoek', 'America/Adak', 'America/Anchorage', 'America/Anguilla', 'America/Antigua', 'America/Araguaina', 'America/Argentina/Buenos_Aires', 'America/Argentina/Catamarca', 'America/Argentina/ComodRivadavia', 'America/Argentina/Cordoba', 'America/Argentina/Jujuy', 'America/Argentina/La_Rioja', 'America/Argentina/Mendoza', 'America/Argentina/Rio_Gallegos', 'America/Argentina/Salta', 'America/Argentina/San_Juan', 'America/Argentina/San_Luis', 'America/Argentina/Tucuman', 'America/Argentina/Ushuaia', 'America/Aruba', 'America/Asuncion', 'America/Atikokan', 'America/Atka', 'America/Bahia', 'America/Bahia_Banderas', 'America/Barbados', 'America/Belem', 'America/Belize', 'America/Blanc-Sablon', 'America/Boa_Vista', 'America/Bogota', 'America/Boise', 'America/Buenos_Aires', 'America/Cambridge_Bay', 'America/Campo_Grande', 'America/Cancun', 'America/Caracas', 'America/Catamarca', 'America/Cayenne', 'America/Cayman', 'America/Chicago', 'America/Chihuahua', 'America/Ciudad_Juarez', 'America/Coral_Harbour', 'America/Cordoba', 'America/Costa_Rica', 'America/Creston', 'America/Cuiaba', 'America/Curacao', 'America/Danmarkshavn', 'America/Dawson', 'America/Dawson_Creek', 'America/Denver', 'America/Detroit', 'America/Dominica', 'America/Edmonton', 'America/Eirunepe', 'America/El_Salvador', 'America/Ensenada', 'America/Fort_Nelson', 'America/Fort_Wayne', 'America/Fortaleza', 'America/Glace_Bay', 'America/Godthab', 'America/Goose_Bay', 'America/Grand_Turk', 'America/Grenada', 'America/Guadeloupe', 'America/Guatemala', 'America/Guayaquil', 'America/Guyana', 'America/Halifax', 'America/Havana', 'America/Hermosillo', 'America/Indiana/Indianapolis', 'America/Indiana/Knox', 'America/Indiana/Marengo', 'America/Indiana/Petersburg', 'America/Indiana/Tell_City', 'America/Indiana/Vevay', 'America/Indiana/Vincennes', 'America/Indiana/Winamac', 'America/Indianapolis', 'America/Inuvik', 'America/Iqaluit', 'America/Jamaica', 'America/Jujuy', 'America/Juneau', 'America/Kentucky/Louisville', 'America/Kentucky/Monticello', 'America/Knox_IN', 'America/Kralendijk', 'America/La_Paz', 'America/Lima', 'America/Los_Angeles', 'America/Louisville', 'America/Lower_Princes', 'America/Maceio', 'America/Managua', 'America/Manaus', 'America/Marigot', 'America/Martinique', 'America/Matamoros', 'America/Mazatlan', 'America/Mendoza', 'America/Menominee', 'America/Merida', 'America/Metlakatla', 'America/Mexico_City', 'America/Miquelon', 'America/Moncton', 'America/Monterrey', 'America/Montevideo', 'America/Montreal', 'America/Montserrat', 'America/Nassau', 'America/New_York', 'America/Nipigon', 'America/Nome', 'America/Noronha', 'America/North_Dakota/Beulah', 'America/North_Dakota/Center', 'America/North_Dakota/New_Salem', 'America/Nuuk', 'America/Ojinaga', 'America/Panama', 'America/Pangnirtung', 'America/Paramaribo', 'America/Phoenix', 'America/Port-au-Prince', 'America/Port_of_Spain', 'America/Porto_Acre', 'America/Porto_Velho', 'America/Puerto_Rico', 'America/Punta_Arenas', 'America/Rainy_River', 'America/Rankin_Inlet', 'America/Recife', 'America/Regina', 'America/Resolute', 'America/Rio_Branco', 'America/Rosario', 'America/Santa_Isabel', 'America/Santarem', 'America/Santiago', 'America/Santo_Domingo', 'America/Sao_Paulo', 'America/Scoresbysund', 'America/Shiprock', 'America/Sitka', 'America/St_Barthelemy', 'America/St_Johns', 'America/St_Kitts', 'America/St_Lucia', 'America/St_Thomas', 'America/St_Vincent', 'America/Swift_Current', 'America/Tegucigalpa', 'America/Thule', 'America/Thunder_Bay', 'America/Tijuana', 'America/Toronto', 'America/Tortola', 'America/Vancouver', 'America/Virgin', 'America/Whitehorse', 'America/Winnipeg', 'America/Yakutat', 'America/Yellowknife', 'Antarctica/Casey', 'Antarctica/Davis', 'Antarctica/DumontDUrville', 'Antarctica/Macquarie', 'Antarctica/Mawson', 'Antarctica/McMurdo', 'Antarctica/Palmer', 'Antarctica/Rothera', 'Antarctica/South_Pole', 'Antarctica/Syowa', 'Antarctica/Troll', 'Antarctica/Vostok', 'Arctic/Longyearbyen', 'Asia/Aden', 'Asia/Almaty', 'Asia/Amman', 'Asia/Anadyr', 'Asia/Aqtau', 'Asia/Aqtobe', 'Asia/Ashgabat', 'Asia/Ashkhabad', 'Asia/Atyrau', 'Asia/Baghdad', 'Asia/Bahrain', 'Asia/Baku', 'Asia/Bangkok', 'Asia/Barnaul', 'Asia/Beirut', 'Asia/Bishkek', 'Asia/Brunei', 'Asia/Calcutta', 'Asia/Chita', 'Asia/Choibalsan', 'Asia/Chongqing', 'Asia/Chungking', 'Asia/Colombo', 'Asia/Dacca', 'Asia/Damascus', 'Asia/Dhaka', 'Asia/Dili', 'Asia/Dubai', 'Asia/Dushanbe', 'Asia/Famagusta', 'Asia/Gaza', 'Asia/Harbin', 'Asia/Hebron', 'Asia/Ho_Chi_Minh', 'Asia/Hong_Kong', 'Asia/Hovd', 'Asia/Irkutsk', 'Asia/Istanbul', 'Asia/Jakarta', 'Asia/Jayapura', 'Asia/Jerusalem', 'Asia/Kabul', 'Asia/Kamchatka', 'Asia/Karachi', 'Asia/Kashgar', 'Asia/Kathmandu', 'Asia/Katmandu', 'Asia/Khandyga', 'Asia/Kolkata', 'Asia/Krasnoyarsk', 'Asia/Kuala_Lumpur', 'Asia/Kuching', 'Asia/Kuwait', 'Asia/Macao', 'Asia/Macau', 'Asia/Magadan', 'Asia/Makassar', 'Asia/Manila', 'Asia/Muscat', 'Asia/Nicosia', 'Asia/Novokuznetsk', 'Asia/Novosibirsk', 'Asia/Omsk', 'Asia/Oral', 'Asia/Phnom_Penh', 'Asia/Pontianak', 'Asia/Pyongyang', 'Asia/Qatar', 'Asia/Qostanay', 'Asia/Qyzylorda', 'Asia/Rangoon', 'Asia/Riyadh', 'Asia/Saigon', 'Asia/Sakhalin', 'Asia/Samarkand', 'Asia/Seoul', 'Asia/Shanghai', 'Asia/Singapore', 'Asia/Srednekolymsk', 'Asia/Taipei', 'Asia/Tashkent', 'Asia/Tbilisi', 'Asia/Tehran', 'Asia/Tel_Aviv', 'Asia/Thimbu', 'Asia/Thimphu', 'Asia/Tokyo', 'Asia/Tomsk', 'Asia/Ujung_Pandang', 'Asia/Ulaanbaatar', 'Asia/Ulan_Bator', 'Asia/Urumqi', 'Asia/Ust-Nera', 'Asia/Vientiane', 'Asia/Vladivostok', 'Asia/Yakutsk', 'Asia/Yangon', 'Asia/Yekaterinburg', 'Asia/Yerevan', 'Atlantic/Azores', 'Atlantic/Bermuda', 'Atlantic/Canary', 'Atlantic/Cape_Verde', 'Atlantic/Faeroe', 'Atlantic/Faroe', 'Atlantic/Jan_Mayen', 'Atlantic/Madeira', 'Atlantic/Reykjavik', 'Atlantic/South_Georgia', 'Atlantic/St_Helena', 'Atlantic/Stanley', 'Australia/ACT', 'Australia/Adelaide', 'Australia/Brisbane', 'Australia/Broken_Hill', 'Australia/Canberra', 'Australia/Currie', 'Australia/Darwin', 'Australia/Eucla', 'Australia/Hobart', 'Australia/LHI', 'Australia/Lindeman', 'Australia/Lord_Howe', 'Australia/Melbourne', 'Australia/NSW', 'Australia/North', 'Australia/Perth', 'Australia/Queensland', 'Australia/South', 'Australia/Sydney', 'Australia/Tasmania', 'Australia/Victoria', 'Australia/West', 'Australia/Yancowinna', 'Brazil/Acre', 'Brazil/DeNoronha', 'Brazil/East', 'Brazil/West', 'CET', 'CST6CDT', 'Canada/Atlantic', 'Canada/Central', 'Canada/Eastern', 'Canada/Mountain', 'Canada/Newfoundland', 'Canada/Pacific', 'Canada/Saskatchewan', 'Canada/Yukon', 'Chile/Continental', 'Chile/EasterIsland', 'Cuba', 'EET', 'EST', 'EST5EDT', 'Egypt', 'Eire', 'Etc/GMT', 'Etc/GMT+0', 'Etc/GMT+1', 'Etc/GMT+10', 'Etc/GMT+11', 'Etc/GMT+12', 'Etc/GMT+2', 'Etc/GMT+3', 'Etc/GMT+4', 'Etc/GMT+5', 'Etc/GMT+6', 'Etc/GMT+7', 'Etc/GMT+8', 'Etc/GMT+9', 'Etc/GMT-0', 'Etc/GMT-1', 'Etc/GMT-10', 'Etc/GMT-11', 'Etc/GMT-12', 'Etc/GMT-13', 'Etc/GMT-14', 'Etc/GMT-2', 'Etc/GMT-3', 'Etc/GMT-4', 'Etc/GMT-5', 'Etc/GMT-6', 'Etc/GMT-7', 'Etc/GMT-8', 'Etc/GMT-9', 'Etc/GMT0', 'Etc/Greenwich', 'Etc/UCT', 'Etc/UTC', 'Etc/Universal', 'Etc/Zulu', 'Europe/Amsterdam', 'Europe/Andorra', 'Europe/Astrakhan', 'Europe/Athens', 'Europe/Belfast', 'Europe/Belgrade', 'Europe/Berlin', 'Europe/Bratislava', 'Europe/Brussels', 'Europe/Bucharest', 'Europe/Budapest', 'Europe/Busingen', 'Europe/Chisinau', 'Europe/Copenhagen', 'Europe/Dublin', 'Europe/Gibraltar', 'Europe/Guernsey', 'Europe/Helsinki', 'Europe/Isle_of_Man', 'Europe/Istanbul', 'Europe/Jersey', 'Europe/Kaliningrad', 'Europe/Kiev', 'Europe/Kirov', 'Europe/Kyiv', 'Europe/Lisbon', 'Europe/Ljubljana', 'Europe/London', 'Europe/Luxembourg', 'Europe/Madrid', 'Europe/Malta', 'Europe/Mariehamn', 'Europe/Minsk', 'Europe/Monaco', 'Europe/Moscow', 'Europe/Nicosia', 'Europe/Oslo', 'Europe/Paris', 'Europe/Podgorica', 'Europe/Prague', 'Europe/Riga', 'Europe/Rome', 'Europe/Samara', 'Europe/San_Marino', 'Europe/Sarajevo', 'Europe/Saratov', 'Europe/Simferopol', 'Europe/Skopje', 'Europe/Sofia', 'Europe/Stockholm', 'Europe/Tallinn', 'Europe/Tirane', 'Europe/Tiraspol', 'Europe/Ulyanovsk', 'Europe/Uzhgorod', 'Europe/Vaduz', 'Europe/Vatican', 'Europe/Vienna', 'Europe/Vilnius', 'Europe/Volgograd', 'Europe/Warsaw', 'Europe/Zagreb', 'Europe/Zaporozhye', 'Europe/Zurich', 'GB', 'GB-Eire', 'GMT', 'GMT+0', 'GMT-0', 'GMT0', 'Greenwich', 'HST', 'Hongkong', 'Iceland', 'Indian/Antananarivo', 'Indian/Chagos', 'Indian/Christmas', 'Indian/Cocos', 'Indian/Comoro', 'Indian/Kerguelen', 'Indian/Mahe', 'Indian/Maldives', 'Indian/Mauritius', 'Indian/Mayotte', 'Indian/Reunion', 'Iran', 'Israel', 'Jamaica', 'Japan', 'Kwajalein', 'Libya', 'MET', 'MST', 'MST7MDT', 'Mexico/BajaNorte', 'Mexico/BajaSur', 'Mexico/General', 'NZ', 'NZ-CHAT', 'Navajo', 'PRC', 'PST8PDT', 'Pacific/Apia', 'Pacific/Auckland', 'Pacific/Bougainville', 'Pacific/Chatham', 'Pacific/Chuuk', 'Pacific/Easter', 'Pacific/Efate', 'Pacific/Enderbury', 'Pacific/Fakaofo', 'Pacific/Fiji', 'Pacific/Funafuti', 'Pacific/Galapagos', 'Pacific/Gambier', 'Pacific/Guadalcanal', 'Pacific/Guam', 'Pacific/Honolulu', 'Pacific/Johnston', 'Pacific/Kanton', 'Pacific/Kiritimati', 'Pacific/Kosrae', 'Pacific/Kwajalein', 'Pacific/Majuro', 'Pacific/Marquesas', 'Pacific/Midway', 'Pacific/Nauru', 'Pacific/Niue', 'Pacific/Norfolk', 'Pacific/Noumea', 'Pacific/Pago_Pago', 'Pacific/Palau', 'Pacific/Pitcairn', 'Pacific/Pohnpei', 'Pacific/Ponape', 'Pacific/Port_Moresby', 'Pacific/Rarotonga', 'Pacific/Saipan', 'Pacific/Samoa', 'Pacific/Tahiti', 'Pacific/Tarawa', 'Pacific/Tongatapu', 'Pacific/Truk', 'Pacific/Wake', 'Pacific/Wallis', 'Pacific/Yap', 'Poland', 'Portugal', 'ROC', 'ROK', 'Singapore', 'Turkey', 'UCT', 'US/Alaska', 'US/Aleutian', 'US/Arizona', 'US/Central', 'US/East-Indiana', 'US/Eastern', 'US/Hawaii', 'US/Indiana-Starke', 'US/Michigan', 'US/Mountain', 'US/Pacific', 'US/Samoa', 'UTC', 'Universal', 'W-SU', 'WET', 'Zulu']\n",
      "\n"
     ]
    }
   ],
   "source": [
    "\n",
    "from datetime import datetime\n",
    "import pytz\n",
    "\n",
    "#mostrar todas las zonas horarias\n",
    "\n",
    "print(pytz.all_timezones)\n",
    "print(\"\")"
   ]
  },
  {
   "cell_type": "markdown",
   "metadata": {},
   "source": [
    "# Sentencia de Decisión IF/ELSE\n",
    "<p><b>If</b> determina la condición y el bloque de sentencias</p>\n",
    "<p><b>Else</b> marca el bloque de setntencias que no cumple la condición</p>\n",
    "<p><b>Elif</b> simplificación de un elseif (Entoncessis)</p>\n",
    "<p>La salida es <b>TRUE</b> o <b>FALSE</p></p>"
   ]
  },
  {
   "cell_type": "code",
   "execution_count": null,
   "metadata": {},
   "outputs": [
    {
     "name": "stdout",
     "output_type": "stream",
     "text": [
      "El Número mayor es 20\n"
     ]
    }
   ],
   "source": [
    "a = 10\n",
    "b = 20\n",
    "if (a > b):\n",
    "    print (f\"El Númeero mayor es {a}\")\n",
    "elif (a < b):\n",
    "    print (f\"El Número mayor es {b}\")\n",
    "else:\n",
    "    print (f\"Los dos números son iguales\")"
   ]
  },
  {
   "cell_type": "markdown",
   "metadata": {},
   "source": [
    "# Sentencia de Repetición FOR\n",
    "\n",
    "<p><b>Las sentencias de repetición FOR</b> ejecutan bloques de código de forma repetida</p>\n",
    "<p>La sentencia de repetición for se emplea para recorrer y trabajar con las coleciones</p>\n",
    "<p><b>Range</b> nos permite codificar contadores</p>\n",
    "<p><b>Continue</b> continua con la siguiente operación de incremento</p>\n",
    "<p><b>Break</b> finaliza el bucle For</p>"
   ]
  },
  {
   "cell_type": "code",
   "execution_count": null,
   "metadata": {},
   "outputs": [
    {
     "name": "stdout",
     "output_type": "stream",
     "text": [
      "####################################################\n",
      "1 limón\n",
      "2 naranja\n",
      "3 pomelo\n",
      "4 lima\n",
      "5 mandarina\n",
      "####################################################\n",
      "-> 10\n",
      "-> 12\n",
      "-> 14\n",
      "-> 16\n",
      "-> 18\n",
      "-> 20\n",
      " -> 0# limón\n",
      " -> 1# naranja\n",
      " -> 2# pomelo\n",
      " -> 3# lima\n",
      " -> 4# mandarina\n",
      "####################################################\n",
      "> limón\n",
      "> naranja\n",
      "> pomelo\n",
      "POMELO! BREAK!\n",
      "####################################################\n",
      "> limón\n",
      "> naranja\n",
      "> pomelo\n",
      "POMELO! CONTINUE!\n",
      "> lima\n",
      "> mandarina\n"
     ]
    }
   ],
   "source": [
    "#Declaración de variables\n",
    "citricos = [\"limón\", \"naranja\", \"pomelo\", \"lima\", \"mandarina\"]\n",
    "cuentafrutas = 0\n",
    "print(\"####################################################\")\n",
    "\n",
    "#Usamos FOR para recorrer colecciones de datos con IN\n",
    "#NO tenemos la posición de los elementos.\n",
    "for fruta in citricos:\n",
    "    cuentafrutas = cuentafrutas + 1 # suma uno al contador de fruta\n",
    "    \n",
    "    print(cuentafrutas, fruta)\n",
    "\n",
    "print(\"####################################################\")\n",
    "\n",
    "#Contador de 10 a 20 de 2 en 2\n",
    "\n",
    "for numero in range(10, 21, 2):\n",
    "    print(f\"-> {numero}\")\n",
    "for index in range(len (citricos)):\n",
    "    print(f\" -> {index}# {citricos[index]}\")\n",
    "\n",
    "print(\"####################################################\")\n",
    "\n",
    "for fruta in citricos:\n",
    "    if (fruta == \"pomelo\"):\n",
    "        print(f\"> {fruta}\")\n",
    "        print(f\"POMELO! BREAK!\")\n",
    "        break\n",
    "    print(f\"> {fruta}\")\n",
    "\n",
    "print(\"####################################################\")\n",
    "\n",
    "for fruta in citricos:\n",
    "    if (fruta == \"pomelo\"):\n",
    "        print(f\"> {fruta}\")\n",
    "        print(f\"POMELO! CONTINUE!\")\n",
    "        continue\n",
    "    print(f\"> {fruta}\")\n"
   ]
  },
  {
   "cell_type": "markdown",
   "metadata": {},
   "source": [
    "# Sentencia de Repetición While\n",
    "\n",
    "<p>La <b>Sentencia de repetición While</b> ejecutan bloques de código de forma repetida mientras se cumpla una condición</p>\n",
    "\n",
    "<p><b>Continue</b> continúa con la siguiente interacción </p>\n",
    "<p><b>Break</b> Finaliza el bucle While</p>\n",
    "<p>Es como un Bucle For, pero aquí el que determina la última condición del bloque es la condición impuesta </p>"
   ]
  },
  {
   "cell_type": "code",
   "execution_count": null,
   "metadata": {},
   "outputs": [
    {
     "name": "stdout",
     "output_type": "stream",
     "text": [
      "Inicio del WHILE\n",
      "Valor actual: 2024-04-26 13:22:02.5652581\n",
      "Valor actual: 2024-04-26 13:22:02.5652682\n",
      "Valor actual: 2024-04-26 13:22:02.5652723\n",
      "Valor actual: 2024-04-26 13:22:02.5652754\n",
      "Valor actual: 2024-04-26 13:22:02.5652785\n",
      "Fin del WHILE\n"
     ]
    }
   ],
   "source": [
    "from datetime import datetime\n",
    "valor = 0\n",
    "\n",
    "print(f\"Inicio del WHILE\")\n",
    "while valor < 5:\n",
    "    valor +=1 # Valor para trastear, pinta mientras sea menor que 5, pero puede pintar valores superiores\n",
    "    print(f\"Valor actual: {datetime.now()}{valor}\")\n",
    "\n",
    "print(f\"Fin del WHILE\")"
   ]
  },
  {
   "cell_type": "markdown",
   "metadata": {},
   "source": [
    "Utilizamos el While para recorrer colecciones"
   ]
  },
  {
   "cell_type": "code",
   "execution_count": null,
   "metadata": {},
   "outputs": [
    {
     "name": "stdout",
     "output_type": "stream",
     "text": [
      "Fruta actual: limón\n",
      "Fruta actual: naranja\n",
      "Fruta actual: pomelo\n",
      "Fruta actual: lima\n",
      "Fruta actual: mandarina\n"
     ]
    }
   ],
   "source": [
    "from datetime import datetime\n",
    "\n",
    "citricos = [\"limón\", \"naranja\", \"pomelo\", \"lima\", \"mandarina\"];cuentafrutas = 0;valor = 0\n",
    "\n",
    "while cuentafrutas < len(citricos):print(f\"Fruta actual: {citricos[cuentafrutas]}\");cuentafrutas += 1\n"
   ]
  },
  {
   "cell_type": "markdown",
   "metadata": {},
   "source": [
    "<p>Implementar la funcionalidad que otros lenguajes ofrecen mediante el uso de do/wihle. Consiguiendo que el bloque de sentencisa se ejecute al menos una vez</p>"
   ]
  },
  {
   "cell_type": "code",
   "execution_count": 7,
   "metadata": {},
   "outputs": [
    {
     "name": "stdout",
     "output_type": "stream",
     "text": [
      "valor actual: pomelo\n",
      "valor actual: lima\n",
      "valor actual: mandarina\n"
     ]
    },
    {
     "ename": "IndexError",
     "evalue": "list index out of range",
     "output_type": "error",
     "traceback": [
      "\u001b[1;31m---------------------------------------------------------------------------\u001b[0m",
      "\u001b[1;31mIndexError\u001b[0m                                Traceback (most recent call last)",
      "Cell \u001b[1;32mIn[7], line 7\u001b[0m\n\u001b[0;32m      5\u001b[0m \u001b[38;5;28;01mif\u001b[39;00m cuentafrutas \u001b[38;5;241m>\u001b[39m\u001b[38;5;241m=\u001b[39m \u001b[38;5;28mlen\u001b[39m(citricos): \u001b[38;5;28;01mbreak\u001b[39;00m  \n\u001b[0;32m      6\u001b[0m cuentafrutas \u001b[38;5;241m+\u001b[39m\u001b[38;5;241m=\u001b[39m \u001b[38;5;241m1\u001b[39m\n\u001b[1;32m----> 7\u001b[0m \u001b[38;5;28mprint\u001b[39m(\u001b[38;5;124mf\u001b[39m\u001b[38;5;124m\"\u001b[39m\u001b[38;5;124mvalor actual: \u001b[39m\u001b[38;5;132;01m{\u001b[39;00m\u001b[43mcitricos\u001b[49m\u001b[43m[\u001b[49m\u001b[43mcuentafrutas\u001b[49m\u001b[43m]\u001b[49m\u001b[38;5;132;01m}\u001b[39;00m\u001b[38;5;124m\"\u001b[39m)\n",
      "\u001b[1;31mIndexError\u001b[0m: list index out of range"
     ]
    }
   ],
   "source": [
    "citricos = [\"limón\", \"naranja\", \"pomelo\", \"lima\", \"mandarina\"];cuentafrutas = 1;valor = 0\n",
    "\n",
    "##Primero crear un while donde la condición siempre se cumpla\n",
    "while(True):\n",
    "    if cuentafrutas >= len(citricos): break  \n",
    "    cuentafrutas += 1\n",
    "    print(f\"valor actual: {citricos[cuentafrutas]}\")\n",
    "      "
   ]
  },
  {
   "cell_type": "markdown",
   "metadata": {},
   "source": [
    "# Control de Excepciones\n",
    "\n",
    "<p><b>Try</b> Permite controlar las expeciones producidas en un bloque de código</p>\n",
    "\n",
    "<p><b>Except</b> Bloque de instruccionees qe se ejecutan cuadno se produce una excecpcion </p>\n",
    "<p><b>Else</b> bloque de instrucciones que se ejecutan al finalizar el try si no se produce una excepcion </p>\n",
    "<p><b>Finally</b> bloque de instrucciones que se ejecutan siempre que finaliza el try, except o else.</p>\n",
    "<p>Es una manera elegante de que pete el programa o haga crash al tener algún fallo</p>"
   ]
  },
  {
   "cell_type": "code",
   "execution_count": 14,
   "metadata": {},
   "outputs": [
    {
     "name": "stdout",
     "output_type": "stream",
     "text": [
      "Inicio del programa\n",
      "Error, no se puede dividir eentre cero.\n",
      "El bloque se ejecuta cuando el try o el except finalizan\n",
      "Final del Programa\n"
     ]
    }
   ],
   "source": [
    "numero1 = 0;numero2 = 100;print(f\"Inicio del programa\")\n",
    "try:\n",
    "    numero3 = numero2 / numero1;print(f\"Valor3 es {numero3}\")\n",
    "\n",
    "except ZeroDivisionError:\n",
    "    print(f\"Error, no se puede dividir eentre cero.\")\n",
    "\n",
    "except:\n",
    "    print(f\"Upsss Error!!\")\n",
    "\n",
    "else:\n",
    "    print(f\"El Bloque se ejecuta cuando el try finaaliza correctamente. \")\n",
    "\n",
    "finally:\n",
    "    print(f\"El bloque se ejecuta cuando el try o el except finalizan\")\n",
    "print(f\"Final del Programa\")"
   ]
  },
  {
   "cell_type": "code",
   "execution_count": 25,
   "metadata": {},
   "outputs": [
    {
     "name": "stdout",
     "output_type": "stream",
     "text": [
      "Inicio del programa\n",
      "Valor3 es 20.0\n",
      "Error: [Errno 2] No such file or directory: 'mifichero.txt'.\n",
      ">>>><class 'FileNotFoundError'>.\n",
      "Final del Programa\n"
     ]
    }
   ],
   "source": [
    "import sys\n",
    "\n",
    "numero1 = 5;numero2 = 100;print(f\"Inicio del programa\")\n",
    "\n",
    "try:\n",
    "    numero3 = numero2 / numero1;print(f\"Valor3 es {numero3}\");f = open(\"mifichero.txt\")\n",
    "\n",
    "except ZeroDivisionError as err:\n",
    "    print(f\"Error: {err}.\")\n",
    "    print(f\">>>><<{type(err)}.\")\n",
    "\n",
    "\n",
    "except FileNotFoundError as err:\n",
    "    print(f\"Error: {err}.\")\n",
    "    print(f\">>>>{type(err)}.\")\n",
    "\n",
    "\n",
    "except Exception as err:\n",
    "    print(f\"Error: {err}.\")\n",
    "    print(f\">>>>{type(err)}.\")\n",
    "\n",
    "\n",
    "finally:\n",
    "    print(f\"Final del Programa\")\n"
   ]
  },
  {
   "cell_type": "code",
   "execution_count": 32,
   "metadata": {},
   "outputs": [
    {
     "name": "stdout",
     "output_type": "stream",
     "text": [
      "Error: La variable no es numérica\n"
     ]
    }
   ],
   "source": [
    "\n",
    "numero = \"32\"\n",
    "\n",
    "try:\n",
    "    if (type(numero) is not int):\n",
    "        raise Exception(\"Error: La variable no es numérica\")\n",
    "    \n",
    "except Exception as err:\n",
    "    print(f\"{err}\")"
   ]
  },
  {
   "cell_type": "code",
   "execution_count": 37,
   "metadata": {},
   "outputs": [
    {
     "name": "stdout",
     "output_type": "stream",
     "text": [
      "Nivel 1\n",
      "Inicio nivel 2\n",
      "Nivel 2\n",
      "Fin nivel 2\n",
      "Nivel 1 error division by zero\n"
     ]
    }
   ],
   "source": [
    "import sys\n",
    "\n",
    "numero1 = 5\n",
    "numero2 = 100\n",
    "\n",
    "try:\n",
    "    print(\"Nivel 1\")\n",
    "    print(\"Inicio nivel 2\")\n",
    "    try:\n",
    "        print(\"Nivel 2\")\n",
    "        print(100/0)\n",
    "    except Exception as err:\n",
    "        raise ##Lleva el error al nivel superior, por eso al ejecutarlo el error lo saca el nivel 1\n",
    "        print(f\"Nivel2 error {err}\")\n",
    "    finally: # ESTO se ejecuta siempre, es el main point del ejercicio\n",
    "        print(f\"Fin nivel 2\")\n",
    "except Exception as err:\n",
    "    print(f\"Nivel 1 error {err}\")\n",
    "\n"
   ]
  },
  {
   "cell_type": "markdown",
   "metadata": {},
   "source": [
    "# Colecciones, Listas\n",
    "\n",
    "<p>Una Lista es una coleccion de elemeentos ordenados con un índice de base 0</p>\n",
    "\n",
    "<p>En una lista se pueden añadir, eliminar y modificar elementos</p>\n",
    "\n",
    "<p><b>Extend</b> une dos listas en una</p>\n",
    "<p><b>sort</b> ordenar los elementos en baasae al valor</p>\n",
    "<p><b>reverse</b> invierte el orden de los elementos en base a su índice</p>\n",
    "<p><b>pop(i)</b> elimina el elemento de la posición i</p>"
   ]
  },
  {
   "cell_type": "code",
   "execution_count": 2,
   "metadata": {},
   "outputs": [
    {
     "name": "stdout",
     "output_type": "stream",
     "text": [
      "['limón', 'naranja', 'pomelo', 'lima', 'mandarina']\n",
      "Contenido de frutas: []\n"
     ]
    }
   ],
   "source": [
    "frutas = [\"limón\", \"naranja\", \"pomelo\", \"lima\", \"mandarina\"]\n",
    "\n",
    "#Recorrer laas listas mostrando sus valores\n",
    "\n",
    "#for fruta in frutas:\n",
    "#    print(f\"{fruta}\")\n",
    "\n",
    "#for indes in range(len(frutas)):\n",
    "#    print(f\"{index}# {valor}\")\n",
    "#print(\"\")\n",
    "\n",
    "#copiar una lista\n",
    "\n",
    "vacia = frutas.copy()\n",
    "\n",
    "print(vacia)\n",
    "\n",
    "#eliminar todos los elementos de una lista\n",
    "\n",
    "frutas.clear()\n",
    "print(f\"Contenido de frutas: {frutas}\")"
   ]
  },
  {
   "cell_type": "markdown",
   "metadata": {},
   "source": [
    "# Colecciones, Tuplas\n",
    "\n",
    "<p>Una tupla es una coleccion de elementos ordenados con un índice de base 0</p>\n",
    "<p><b>En una tupla NO se puedeen añádir, eliminar y o modificar elementos</b></p>"
   ]
  },
  {
   "cell_type": "markdown",
   "metadata": {},
   "source": [
    "# Colecciones, Conjuntos\n",
    "\n",
    "<p>Es una coleccion de elementos sin índice, se dice que está desordenado</p>\n",
    "\n",
    "<p>En un conjunto se pueden añadir y eliminar elementos.</p>\n",
    "\n",
    "<p></p>"
   ]
  },
  {
   "cell_type": "code",
   "execution_count": 11,
   "metadata": {},
   "outputs": [
    {
     "name": "stdout",
     "output_type": "stream",
     "text": [
      "pomelo\n",
      "pomelo\n",
      "limón\n",
      "naranja\n",
      "pomelo\n",
      "lima\n",
      "mandarina\n",
      "\n",
      "limón\n",
      "naranja\n",
      "pomelo\n",
      "lima\n",
      "mandarina\n",
      "\n",
      "mandarina\n",
      "naranja\n",
      "pomelo\n",
      "limón\n",
      "lima\n",
      "\n"
     ]
    }
   ],
   "source": [
    "lista = [\"limón\", \"naranja\", \"pomelo\", \"lima\", \"mandarina\"]\n",
    "\n",
    "tupla = (\"limón\", \"naranja\", \"pomelo\", \"lima\", \"mandarina\")\n",
    "\n",
    "conjunto = {\"limón\", \"naranja\", \"pomelo\", \"lima\", \"mandarina\"}\n",
    "\n",
    "\n",
    "\n",
    "print(lista[2])\n",
    "print(tupla[2])\n",
    "#Conjunto no tiene indice por lo que no se puede llamar un valor de ninguna manera\n",
    "#print(conjunto[2])\n",
    "\n",
    "#añadir elementos al final\n",
    "lista.append(\"manzana\")\n",
    "#tupla.append(\"manzana\") No se puedeee!\n",
    "conjunto.add(\"manzana\")\n",
    "\n",
    "#Eliminar elementos\n",
    "\n",
    "lista.remove(\"manzana\")\n",
    "#tupla.remove(\"manzana\")\n",
    "conjunto.discard(\"manzana\")\n",
    "\n",
    "for item in lista:\n",
    "    print(item)\n",
    "print(\"\")\n",
    "\n",
    "for item in tupla:\n",
    "    print(item)\n",
    "print(\"\")\n",
    "\n",
    "for item in conjunto: # No los almacena ni muestra en orden, siempre varía\n",
    "    print(item)\n",
    "print(\"\")\n",
    "\n"
   ]
  },
  {
   "cell_type": "markdown",
   "metadata": {},
   "source": [
    "diccionarios"
   ]
  },
  {
   "cell_type": "code",
   "execution_count": 32,
   "metadata": {},
   "outputs": [
    {
     "name": "stdout",
     "output_type": "stream",
     "text": [
      "Contenido de dicc: {'LI': 'limón', 'NA': 'naranja', 'PO': 'pomelo', 'LIM': 'lima', 'MA': 'mandarina'}\n",
      "Clave PO mediante clase: pomelo\n",
      "Clave PO mediante get: pomelo\n",
      "Clave ML mediante get (No existe): None\n",
      "Número de elementos: 0\n",
      "Claves: dict_keys(['LI', 'NA', 'PO', 'LIM', 'MA'])\n",
      "Contenido de dicc: {'LI': 'limón', 'NA': 'Sandía', 'PO': 'pomelo', 'LIM': 'lima', 'MA': 'mandarina'}\n",
      "Contenido de dicc: {'LI': 'limón', 'NA': 'ciruela', 'PO': 'pomelo', 'LIM': 'lima', 'MA': 'mandarina'}\n",
      "Contenido de dicc: {'LI': 'limón', 'NA': 'ciruela', 'PO': 'pomelo', 'LIM': 'lima', 'MA': 'mandarina', 'ML': 'Melón', 'MZ': 'Manzana'}\n",
      "Contenido de dicc: {'LI': 'limón', 'PO': 'pomelo', 'LIM': 'lima', 'MA': 'mandarina', 'ML': 'Melón'}\n",
      "[LI]  >>  limón\n",
      "[PO]  >>  pomelo\n",
      "[LIM]  >>  lima\n",
      "[MA]  >>  mandarina\n",
      "[ML]  >>  Melón\n",
      "Contenido de copia1: {'LI': 'limón', 'PO': 'pomelo', 'LIM': 'lima', 'MA': 'mandarina', 'ML': 'Melón'}\n",
      "{'LI': 'limón', 'PO': 'pomelo', 'LIM': 'lima', 'MA': 'mandarina', 'ML': 'Melón'}\n",
      "Contenido de copia1: {}\n"
     ]
    }
   ],
   "source": [
    "vacio = {}\n",
    "dicc = {\"LI\": \"limón\",\"NA\": \"naranja\",\"PO\": \"pomelo\",\"LIM\": \"lima\",\"MA\": \"mandarina\" } ## Si se repite, lo reemplaza.\n",
    "\n",
    "#Mostrar contenido\n",
    "print(f\"Contenido de dicc: {dicc}\")\n",
    "\n",
    "#mostrar el valor del elemento con la clae (PO = pomelo)\n",
    "print(f\"Clave PO mediante clase: {dicc[\"PO\"]}\")\n",
    "\n",
    "#Mostrar el valor de un elemento con la función GET\n",
    "#Es más util, ya que evita que de error por ejemplo al pedir un valor inexistente, dando como valor \"None\"\n",
    "print(f\"Clave PO mediante get: {dicc.get(\"PO\")}\")\n",
    "print(f\"Clave ML mediante get (No existe): {dicc.get(\"ML\")}\")\n",
    "\n",
    "#Mostrara el número de elementos quee contiene el diccionario\n",
    "print(f\"Número de elementos: {len(frutas)}\")\n",
    "\n",
    "#Mostrar las claves del diccionario\n",
    "print(f\"Claves: {dicc.keys()}\")\n",
    "\n",
    "#Modificar valores del diccionario\n",
    "\n",
    "dicc[\"NA\"] = \"Sandía\"\n",
    "print(f\"Contenido de dicc: {dicc}\")\n",
    "dicc.update({\"NA\":\"ciruela\"})\n",
    "print(f\"Contenido de dicc: {dicc}\")\n",
    "\n",
    "#AL QUERER MODIFICAR UN VALOR INEXISTENTE, AÑADE UNO NUEVO, ASÍ QUE TAMBIÉN ES EL MÉTODO PARA AÑADIR ELEMENTOS NUEVOS\n",
    "dicc[\"ML\"] = \"Melón\" \n",
    "dicc.update({\"MZ\":\"Manzana\"})\n",
    "print(f\"Contenido de dicc: {dicc}\")\n",
    "\n",
    "#Eliminar valores del diccionario\n",
    "\n",
    "dicc.pop(\"NA\")\n",
    "del dicc[\"MZ\"]\n",
    "print(f\"Contenido de dicc: {dicc}\")\n",
    "\n",
    "#Para recorrer el diccionario mostrando diferentes valores\n",
    "\n",
    "for key in dicc:\n",
    "    print(f\"[{key}]  >>  {dicc[key]}\")\n",
    "\n",
    "#copiar una lista\n",
    "\n",
    "copia1 = dicc.copy()\n",
    "print(f\"Contenido de copia1: {copia1}\")\n",
    "\n",
    "print(copia1)\n",
    "\n",
    "#eliminar todos los elementos de una lista\n",
    "\n",
    "copia1.clear()\n",
    "print(f\"Contenido de copia1: {copia1}\")\n",
    "\n",
    "#Eliminar un elemento específico\n",
    "dicc.pop(\"MZ\")\n",
    "#Eliminar el último elemento añadido\n",
    "dicc.popitem()\n"
   ]
  },
  {
   "cell_type": "markdown",
   "metadata": {},
   "source": [
    "# Programación Orientada a Objetos\n",
    "\n",
    "<h3><b>Funciones</b></h3>\n",
    "<p>La deficinición de una función es una sentencia ejecutable que utiliza def, donde se vincula el nombre de la función con el espacio de nombres local.</p>\n",
    "<p>Cuando la marcamos con Pass, es nula, es ejecutada pero no sucede nada.</p>\n"
   ]
  },
  {
   "cell_type": "code",
   "execution_count": 3,
   "metadata": {},
   "outputs": [
    {
     "name": "stdout",
     "output_type": "stream",
     "text": [
      "Hola mundo!!!\n"
     ]
    }
   ],
   "source": [
    "from datetime import datetime\n",
    "\n",
    "##Ejemplo de función que no recibe datos (no tiene parámetros) y no retorna datos##\n",
    "\n",
    "def Func1():\n",
    "    \"\"\"Func1, no tiene parámetros ni retorna datos\\n\\n pinga\"\"\"\n",
    "    print(\"Hola mundo!!!\")\n",
    "\n",
    "\n",
    "##Ejemplo de función que sí recibe datos (si tiene parametros) y no retorna nada##\n",
    "\n",
    "def Func2(parametro1, parametro2):\n",
    "    print(f\"Me llamo {parametro1} y mi número de la suerte es {parametro2}\")\n",
    "\n",
    "##Ejemplo de función que sí recibe datos (si tiene parametros) y retorne##\n",
    "\n",
    "def Func3(parametro3):\n",
    "    cantidad = len(parametro3)\n",
    "    return cantidad\n",
    "\n",
    "##Ejemplo de función que no recibe datos (no tiene parametros) y retorne##\n",
    "\n",
    "def Func4():\n",
    "    return datetime.now().date().strftime(\"%A\")\n",
    "\n",
    "##Hasta que no se invoquen o llamen, no se van a ejecutar, ¿cuantas veces? pues las veces que los llamemos##\n",
    "\n",
    "Func1()\n"
   ]
  },
  {
   "cell_type": "markdown",
   "metadata": {},
   "source": [
    "\n",
    "<h3><b>Parámetros</b></h3>\n",
    "<p>Los parámetros son variables</p>\n",
    "<p><b></b></p>\n",
    "<p></p>"
   ]
  },
  {
   "cell_type": "code",
   "execution_count": 11,
   "metadata": {},
   "outputs": [
    {
     "name": "stdout",
     "output_type": "stream",
     "text": [
      "R0a)85 - 10 = 75\n",
      "R0b)10 - 85 = -75\n",
      "\n",
      "R1a) 85 - 10 = 75\n",
      "R1b) 85 - 10 = 75\n",
      "R1c) 85 - 10 = 75\n",
      "R1d) 85 - 10 = 75\n",
      "\n",
      "R2a) 85 - 10 = 75\n",
      "R2b) 85 - 10 = 75\n",
      "R2c) 85 - 10 = 75\n",
      "R2d) 85 - 10 = 75\n",
      "R2e) 85 - 10 = 75\n"
     ]
    }
   ],
   "source": [
    "##Asignación de valores a los parámetros##\n",
    "def Resta(a,b):                                                                                        ##Todos los parámetros son Obligatorios\n",
    "    return a - b\n",
    "print(f\"R0a)85 - 10 = {Resta(85,10)}\")                                                                     ## Asignación por Posición\n",
    "print(f\"R0b)10 - 85 = {Resta(b=85,a=10)}\")                                                                 ## Asignación por Nombre\n",
    "\n",
    "def Resta1(a, b=10):                                                                                   ##Solo el parámetro A es obligatorio\n",
    "    return a - b\n",
    "print(\"\")\n",
    "\n",
    "\n",
    "print(f\"R1a) 85 - 10 = {Resta1(85,10)}\")                                                                ## Por posición\n",
    "print(f\"R1b) 85 - 10 = {Resta1(b=10,a=85)}\")                                                            ## Por nombre\n",
    "print(f\"R1c) 85 - 10 = {Resta1(85)}\")                                                                   ## Por posición solo valor A\n",
    "print(f\"R1d) 85 - 10 = {Resta1(a=85)}\")                                                                 ## Por nombre solo valor A\n",
    "\n",
    "print(\"\")\n",
    "def Resta2(a=85, b=10):                                                                                 ##Todos los parámetros son opcionales\n",
    "    return a - b\n",
    "\n",
    "\n",
    "print(f\"R2a) 85 - 10 = {Resta2()}\")                                                                     ## Sin ningún parámetro\n",
    "print(f\"R2b) 85 - 10 = {Resta2(85,10)}\")                                                                ## Por posición\n",
    "print(f\"R2c) 85 - 10 = {Resta2(b=10,a=85)}\")                                                            ## Por nombre\n",
    "print(f\"R2d) 85 - 10 = {Resta2(85)}\")                                                                   ## Por posición solo valor A\n",
    "print(f\"R2e) 85 - 10 = {Resta2(b=10)}\")                                                                 ## Por nombre solo valor B\n",
    "\n"
   ]
  },
  {
   "cell_type": "markdown",
   "metadata": {},
   "source": [
    "# Ejercicio calculadora hecho por borja"
   ]
  },
  {
   "cell_type": "code",
   "execution_count": 2,
   "metadata": {},
   "outputs": [
    {
     "name": "stdout",
     "output_type": "stream",
     "text": [
      "30.0\n"
     ]
    }
   ],
   "source": [
    "##Ejercicio calculadora good\n",
    "\n",
    "def Calculadora(*args):\n",
    "    operativa = \"sum\"\n",
    "    numero1 = 0\n",
    "    numero2 = 0\n",
    "    try:\n",
    "        \n",
    "        if(len(args) == 2 or len(args)== 3):\n",
    "##Validación operativa\n",
    "            if(len(args)== 3):\n",
    "                    if(args[2].lower() in {\"sum\", \"res\", \"mul\", \"div\"}):\n",
    "                        operativa = args[2].lower()\n",
    "\n",
    "                    else:\n",
    "                        return \"Argumento de la operativa no válido :()\"\n",
    "        # Validación número 1\n",
    "        if (isinstance(args[0], int) or isinstance(args[0], float)):\n",
    "                numero1 = args[0]\n",
    "        elif (isinstance(args[0], str)):\n",
    "                if (args[0].isdigit):\n",
    "                    numero1 = float(args[0])\n",
    "\n",
    "        # Validación Número 2\n",
    "        if(type(args[1]) == int or type(args[1] == float)):\n",
    "             numero2 = float(args[1])\n",
    "        elif (isinstance(args[1], str)):\n",
    "            if (args[1].isdigit):\n",
    "                    numero2 = float(args[1])\n",
    "\n",
    "        #Realizamos el cálculo y retornarmos el resultado\n",
    "        if (operativa == \"sum\"):\n",
    "             return numero1 + numero2\n",
    "        elif (operativa == \"div\"):\n",
    "             return numero1 / numero2\n",
    "        elif (operativa == \"res\"):\n",
    "             return numero1 - numero2\n",
    "        elif (operativa == \"mul\"):\n",
    "             return numero1 * numero2\n",
    "\n",
    "\n",
    "\n",
    "\n",
    "\n",
    "        else:\n",
    "             return \"Argumentos no válidos\"\n",
    "    except Exception as err:\n",
    "        return f\"error: {err}\"\n",
    "    \n",
    "\n",
    "print(Calculadora(10, 20, \"sum\"))"
   ]
  },
  {
   "cell_type": "markdown",
   "metadata": {},
   "source": [
    "# Funciones Lambda\n",
    "\n",
    "<p>Es una función pequeña y anónima</p>\n",
    "<p>Lambda es una palabra reservada de python para crear funciones Lambda</p>"
   ]
  },
  {
   "cell_type": "code",
   "execution_count": 9,
   "metadata": {},
   "outputs": [
    {
     "name": "stdout",
     "output_type": "stream",
     "text": [
      "Hola, me llamo Robe\n",
      "tipo de demo: <class 'function'>\n",
      "Hola, me llamo Borja\n",
      "tipo de demo: <class 'function'>\n",
      "Hola, me llamo Loki\n",
      "Hola, me llamo Ana\n"
     ]
    }
   ],
   "source": [
    "\n",
    "def Saludo(nombre):\n",
    "    print(f\"Hola, me llamo {nombre}\")\n",
    "\n",
    "miNombre = \"Robe\"\n",
    "Saludo(miNombre)\n",
    "print(f\"tipo de demo: {type(Saludo)}\")\n",
    "Saludo(\"Borja\")\n",
    "\n",
    "##Lambda equivalente a la función saludo\n",
    "\n",
    "demo = lambda nombre : print(f\"Hola, me llamo {nombre}\")\n",
    "\n",
    "print(f\"tipo de demo: {type(demo)}\")\n",
    "\n",
    "miNombre = \"Loki\"\n",
    "demo(miNombre)\n",
    "\n",
    "demo(\"Ana\")\n",
    "\n",
    "\n",
    "#La principal diferencia es que los parámetros de funciones lambda pueden almacenar código\n",
    "#se dicen q son anonimas, pseudocosas de python de que están en variables pero son anónimas porque normalmente no se almacena en una variable sino en una operativa entonces no se puede invocar\n",
    "\n",
    "#Creamos una funcion calcular que recibe como parámetro una función lambda"
   ]
  },
  {
   "cell_type": "markdown",
   "metadata": {},
   "source": [
    "Creamos una funcion calcular que recibe como parámetro una función lambda con el cálculo que tiene que realizar"
   ]
  },
  {
   "cell_type": "code",
   "execution_count": 14,
   "metadata": {},
   "outputs": [
    {
     "name": "stdout",
     "output_type": "stream",
     "text": [
      "Número 1 ----> Resultado de la fórmula: 10\n",
      "Número 2 ----> Resultado de la fórmula: 20\n",
      "Número 3 ----> Resultado de la fórmula: 30\n",
      "Número 4 ----> Resultado de la fórmula: 40\n",
      "Número 5 ----> Resultado de la fórmula: 50\n",
      "Número 6 ----> Resultado de la fórmula: 60\n",
      "Número 7 ----> Resultado de la fórmula: 70\n",
      "Número 8 ----> Resultado de la fórmula: 80\n",
      "Número 9 ----> Resultado de la fórmula: 90\n",
      "Número 10 ----> Resultado de la fórmula: 100\n",
      "\n",
      "Número 1 ----> Resultado de la fórmula: 5\n",
      "Número 2 ----> Resultado de la fórmula: 10\n",
      "Número 3 ----> Resultado de la fórmula: 15\n",
      "Número 4 ----> Resultado de la fórmula: 20\n",
      "Número 5 ----> Resultado de la fórmula: 25\n",
      "Número 6 ----> Resultado de la fórmula: 30\n",
      "Número 7 ----> Resultado de la fórmula: 35\n",
      "Número 8 ----> Resultado de la fórmula: 40\n",
      "Número 9 ----> Resultado de la fórmula: 45\n",
      "Número 10 ----> Resultado de la fórmula: 50\n",
      "\n",
      "Número 1 ----> Resultado de la fórmula: -5.0\n",
      "Número 2 ----> Resultado de la fórmula: 0.0\n",
      "Número 3 ----> Resultado de la fórmula: 1.6666666666666667\n",
      "Número 4 ----> Resultado de la fórmula: 2.5\n",
      "Número 5 ----> Resultado de la fórmula: 3.0\n",
      "Número 6 ----> Resultado de la fórmula: 3.3333333333333335\n",
      "Número 7 ----> Resultado de la fórmula: 3.5714285714285716\n",
      "Número 8 ----> Resultado de la fórmula: 3.75\n",
      "Número 9 ----> Resultado de la fórmula: 3.888888888888889\n",
      "Número 10 ----> Resultado de la fórmula: 4.0\n"
     ]
    }
   ],
   "source": [
    "def Sumar(num):\n",
    "    return lambda a: a + num\n",
    "\n",
    "def Restar(num):\n",
    "    return lambda a: a - num\n",
    "\n",
    "def Multiplicar(num):\n",
    "    return lambda a: a * num\n",
    "\n",
    "def Dividir(num):\n",
    "    return lambda a: a / num\n",
    "\n",
    "def Calcular(formula):\n",
    "    for n in range(1, 11, 1):\n",
    "        print(f\"Número {n} ----> Resultado de la fórmula: {formula (n)}\")\n",
    "\n",
    "\n",
    "Calcular(Multiplicar(10))\n",
    "print(\"\")\n",
    "Calcular(lambda a: a * 5)\n",
    "print(\"\")\n",
    "Calcular(lambda x: ((x * 5 ) - 10) / x)"
   ]
  },
  {
   "cell_type": "markdown",
   "metadata": {},
   "source": [
    "# Funciones Sync\n",
    "\n",
    "<p>Programación síncrona: todo se ejecuta en orden, una sentencia tras de otra</p>\n",
    "\n",
    "<p></p>"
   ]
  },
  {
   "cell_type": "code",
   "execution_count": 5,
   "metadata": {},
   "outputs": [
    {
     "name": "stdout",
     "output_type": "stream",
     "text": [
      "Inicio Sync\n"
     ]
    },
    {
     "ename": "RuntimeError",
     "evalue": "asyncio.run() cannot be called from a running event loop",
     "output_type": "error",
     "traceback": [
      "\u001b[0;31m---------------------------------------------------------------------------\u001b[0m",
      "\u001b[0;31mRuntimeError\u001b[0m                              Traceback (most recent call last)",
      "Cell \u001b[0;32mIn[5], line 31\u001b[0m\n\u001b[1;32m     28\u001b[0m     \u001b[38;5;28mprint\u001b[39m(\u001b[38;5;124m\"\u001b[39m\u001b[38;5;124masync func3 -> ....... Adios1\u001b[39m\u001b[38;5;124m\"\u001b[39m)\n\u001b[1;32m     30\u001b[0m \u001b[38;5;28mprint\u001b[39m (\u001b[38;5;124m\"\u001b[39m\u001b[38;5;124mInicio Sync\u001b[39m\u001b[38;5;124m\"\u001b[39m)\n\u001b[0;32m---> 31\u001b[0m \u001b[43masyncio\u001b[49m\u001b[38;5;241;43m.\u001b[39;49m\u001b[43mrun\u001b[49m\u001b[43m(\u001b[49m\u001b[43mmain\u001b[49m\u001b[43m(\u001b[49m\u001b[43m)\u001b[49m\u001b[43m)\u001b[49m\n\u001b[1;32m     32\u001b[0m asyncio\u001b[38;5;241m.\u001b[39mrun(func1)\n\u001b[1;32m     33\u001b[0m asyncio\u001b[38;5;241m.\u001b[39mrun(func2)\n",
      "File \u001b[0;32m/opt/homebrew/Cellar/python@3.12/3.12.3/Frameworks/Python.framework/Versions/3.12/lib/python3.12/asyncio/runners.py:190\u001b[0m, in \u001b[0;36mrun\u001b[0;34m(main, debug, loop_factory)\u001b[0m\n\u001b[1;32m    161\u001b[0m \u001b[38;5;250m\u001b[39m\u001b[38;5;124;03m\"\"\"Execute the coroutine and return the result.\u001b[39;00m\n\u001b[1;32m    162\u001b[0m \n\u001b[1;32m    163\u001b[0m \u001b[38;5;124;03mThis function runs the passed coroutine, taking care of\u001b[39;00m\n\u001b[0;32m   (...)\u001b[0m\n\u001b[1;32m    186\u001b[0m \u001b[38;5;124;03m    asyncio.run(main())\u001b[39;00m\n\u001b[1;32m    187\u001b[0m \u001b[38;5;124;03m\"\"\"\u001b[39;00m\n\u001b[1;32m    188\u001b[0m \u001b[38;5;28;01mif\u001b[39;00m events\u001b[38;5;241m.\u001b[39m_get_running_loop() \u001b[38;5;129;01mis\u001b[39;00m \u001b[38;5;129;01mnot\u001b[39;00m \u001b[38;5;28;01mNone\u001b[39;00m:\n\u001b[1;32m    189\u001b[0m     \u001b[38;5;66;03m# fail fast with short traceback\u001b[39;00m\n\u001b[0;32m--> 190\u001b[0m     \u001b[38;5;28;01mraise\u001b[39;00m \u001b[38;5;167;01mRuntimeError\u001b[39;00m(\n\u001b[1;32m    191\u001b[0m         \u001b[38;5;124m\"\u001b[39m\u001b[38;5;124masyncio.run() cannot be called from a running event loop\u001b[39m\u001b[38;5;124m\"\u001b[39m)\n\u001b[1;32m    193\u001b[0m \u001b[38;5;28;01mwith\u001b[39;00m Runner(debug\u001b[38;5;241m=\u001b[39mdebug, loop_factory\u001b[38;5;241m=\u001b[39mloop_factory) \u001b[38;5;28;01mas\u001b[39;00m runner:\n\u001b[1;32m    194\u001b[0m     \u001b[38;5;28;01mreturn\u001b[39;00m runner\u001b[38;5;241m.\u001b[39mrun(main)\n",
      "\u001b[0;31mRuntimeError\u001b[0m: asyncio.run() cannot be called from a running event loop"
     ]
    }
   ],
   "source": [
    "import asyncio\n",
    "\n",
    "async def main():\n",
    "\n",
    "    print(\"async main -> Hola .......\")\n",
    "\n",
    "    print(\"async main -> ....... Adios\")\n",
    "\n",
    "async def func1():\n",
    "\n",
    "    print(\"async func1 -> Hola1 .......\")\n",
    "    await asyncio.sleep(5)\n",
    "    print(\"async func1 -> ....... Adios1\")\n",
    "\n",
    "async def func2():\n",
    "\n",
    "    print(\"async func2 -> Hola2 .......\")\n",
    "    for i in range(11):\n",
    "        print(f\"Async func2 -> {i}\")\n",
    "        await asyncio.sleep(0.6)\n",
    "\n",
    "    print(\"async func2 -> ....... Adios2\")\n",
    "\n",
    "async def func3():\n",
    "    print(\"async func3 -> Hola3 .......\")\n",
    "    await asyncio.sleep(7)\n",
    "    print(\"async func3 -> ....... Adios3\")\n",
    "\n",
    "print (\"Inicio Sync\")\n",
    "asyncio.run(main())\n",
    "asyncio.run(func1)\n",
    "asyncio.run(func2)\n",
    "asyncio.run(func3)\n",
    "##El hilo principal, osea esta parte se ejecuta de manera SÍNCRONA, AUNQUE LO DECLARES ASÍNCRONO\n",
    "print(\"Fin Sync\")\n",
    "print(\"\")"
   ]
  },
  {
   "cell_type": "markdown",
   "metadata": {},
   "source": []
  },
  {
   "cell_type": "code",
   "execution_count": 8,
   "metadata": {},
   "outputs": [
    {
     "name": "stdout",
     "output_type": "stream",
     "text": [
      "Inicio Sync\n"
     ]
    },
    {
     "ename": "RuntimeError",
     "evalue": "asyncio.run() cannot be called from a running event loop",
     "output_type": "error",
     "traceback": [
      "\u001b[0;31m---------------------------------------------------------------------------\u001b[0m",
      "\u001b[0;31mRuntimeError\u001b[0m                              Traceback (most recent call last)",
      "Cell \u001b[0;32mIn[8], line 33\u001b[0m\n\u001b[1;32m     30\u001b[0m     \u001b[38;5;28mprint\u001b[39m(\u001b[38;5;124m\"\u001b[39m\u001b[38;5;124masync func3 -> ....... Adios3\u001b[39m\u001b[38;5;124m\"\u001b[39m)\n\u001b[1;32m     32\u001b[0m \u001b[38;5;28mprint\u001b[39m (\u001b[38;5;124m\"\u001b[39m\u001b[38;5;124mInicio Sync\u001b[39m\u001b[38;5;124m\"\u001b[39m)\n\u001b[0;32m---> 33\u001b[0m \u001b[43masyncio\u001b[49m\u001b[38;5;241;43m.\u001b[39;49m\u001b[43mrun\u001b[49m\u001b[43m(\u001b[49m\u001b[43mmain\u001b[49m\u001b[43m(\u001b[49m\u001b[43m)\u001b[49m\u001b[43m)\u001b[49m\n\u001b[1;32m     34\u001b[0m \u001b[38;5;66;03m##El hilo principal, osea esta parte se ejecuta de manera SÍNCRONA, AUNQUE LO DECLARES ASÍNCRONO\u001b[39;00m\n\u001b[1;32m     35\u001b[0m \u001b[38;5;28mprint\u001b[39m(\u001b[38;5;124m\"\u001b[39m\u001b[38;5;124mFin Sync\u001b[39m\u001b[38;5;124m\"\u001b[39m)\n",
      "File \u001b[0;32m/opt/homebrew/Cellar/python@3.12/3.12.3/Frameworks/Python.framework/Versions/3.12/lib/python3.12/asyncio/runners.py:190\u001b[0m, in \u001b[0;36mrun\u001b[0;34m(main, debug, loop_factory)\u001b[0m\n\u001b[1;32m    161\u001b[0m \u001b[38;5;250m\u001b[39m\u001b[38;5;124;03m\"\"\"Execute the coroutine and return the result.\u001b[39;00m\n\u001b[1;32m    162\u001b[0m \n\u001b[1;32m    163\u001b[0m \u001b[38;5;124;03mThis function runs the passed coroutine, taking care of\u001b[39;00m\n\u001b[0;32m   (...)\u001b[0m\n\u001b[1;32m    186\u001b[0m \u001b[38;5;124;03m    asyncio.run(main())\u001b[39;00m\n\u001b[1;32m    187\u001b[0m \u001b[38;5;124;03m\"\"\"\u001b[39;00m\n\u001b[1;32m    188\u001b[0m \u001b[38;5;28;01mif\u001b[39;00m events\u001b[38;5;241m.\u001b[39m_get_running_loop() \u001b[38;5;129;01mis\u001b[39;00m \u001b[38;5;129;01mnot\u001b[39;00m \u001b[38;5;28;01mNone\u001b[39;00m:\n\u001b[1;32m    189\u001b[0m     \u001b[38;5;66;03m# fail fast with short traceback\u001b[39;00m\n\u001b[0;32m--> 190\u001b[0m     \u001b[38;5;28;01mraise\u001b[39;00m \u001b[38;5;167;01mRuntimeError\u001b[39;00m(\n\u001b[1;32m    191\u001b[0m         \u001b[38;5;124m\"\u001b[39m\u001b[38;5;124masyncio.run() cannot be called from a running event loop\u001b[39m\u001b[38;5;124m\"\u001b[39m)\n\u001b[1;32m    193\u001b[0m \u001b[38;5;28;01mwith\u001b[39;00m Runner(debug\u001b[38;5;241m=\u001b[39mdebug, loop_factory\u001b[38;5;241m=\u001b[39mloop_factory) \u001b[38;5;28;01mas\u001b[39;00m runner:\n\u001b[1;32m    194\u001b[0m     \u001b[38;5;28;01mreturn\u001b[39;00m runner\u001b[38;5;241m.\u001b[39mrun(main)\n",
      "\u001b[0;31mRuntimeError\u001b[0m: asyncio.run() cannot be called from a running event loop"
     ]
    }
   ],
   "source": [
    "import asyncio\n",
    "\n",
    "async def main():\n",
    "\n",
    "    print(\"async main -> Hola .......\")\n",
    "    await asyncio.gather(func1(), func2(), func3()) ## Ejecutaría todo de golpe de forma síncrona, con el await, no se ejecuta lo de abajo hasta que no finalice esto\n",
    "    print(\"async main -> ....... Adios\")\n",
    "\n",
    "async def func1():\n",
    "\n",
    "    print(\"async func1 -> Hola1 .......\")\n",
    "    await asyncio.sleep(5)\n",
    "    print(\"async func1 -> ....... Adios1\")\n",
    "\n",
    "async def func2():\n",
    "\n",
    "    print(\"async func2 -> Hola2 .......\")\n",
    "    for i in range(11):\n",
    "        print(f\"Async func2 -> {i}\")\n",
    "        await asyncio.sleep(0.6)\n",
    "\n",
    "    print(\"async func2 -> ....... Adios2\")\n",
    "\n",
    "async def func3():\n",
    "    print(\"async func3 -> Hola3 .......\")\n",
    "    await asyncio.sleep(7)\n",
    "    for i in range(11):\n",
    "        print(f\"Async func2 -> {i}\")\n",
    "        await asyncio.sleep(0.2)\n",
    "    print(\"async func3 -> ....... Adios3\")\n",
    "\n",
    "print (\"Inicio Sync\")\n",
    "asyncio.run(main())\n",
    "##El hilo principal, osea esta parte se ejecuta de manera SÍNCRONA, AUNQUE LO DECLARES ASÍNCRONO\n",
    "print(\"Fin Sync\")\n",
    "print(\"\")\n",
    "\n",
    "\n",
    "#Dios arreglar con los apuntes de borja está mal copiado no va"
   ]
  },
  {
   "cell_type": "markdown",
   "metadata": {},
   "source": [
    "# Clases\n",
    "\n",
    "<p>Una definición de clase es una sentencia ejecutable que utiliza <b>Class.</b></a>\n",
    "<p>La lista de herencia generalmente proporciona una lista de clases base, las clases sin una lista de herencia se heredan, por ejemplo, la clase base <b>Object.</b></p>\n",
    "<p>Las clases en Python cuentan con múltiples métodos especiales, los cuales se encuentran entre dobles guiones bajos como <b>__\"< metodo >\"__()</b></p>\n",
    "\n",
    "<p>\"self\"representa al propio objeto para poder referirse a el dentro de su funcion</p>\n",
    "\n",
    "<p>Las clases init se utilizan como clases constructoras de objetos</p>\n",
    "\n",
    "\n",
    "\n"
   ]
  },
  {
   "cell_type": "code",
   "execution_count": 32,
   "metadata": {},
   "outputs": [
    {
     "name": "stdout",
     "output_type": "stream",
     "text": [
      "Ana Gomez de barreda\n",
      "Ana Gomez de barreda Sacaluga\n"
     ]
    }
   ],
   "source": [
    "from datetime import datetime\n",
    "\n",
    "class Alumno:\n",
    "    \"\"\"Clase demostración del curso de Python\"\"\"\n",
    "\n",
    "    # Variables de la clase\n",
    "    Nombre = None\n",
    "    Apellido1 = None\n",
    "    Apellido2 = None\n",
    "    FechaNacimiento = None\n",
    "\n",
    "    # Función constructora del objeto, se ejecuta al crear (instanciar) el objeto.\n",
    "    #self es una variable que contiene el propio objeto.\n",
    "    #Todos los objetos tienen una función init, es la función que ejecuta el propio objeto, todas estas funciones automáticamente agregadas son heredadas de object.\n",
    "    def __init__(self, nombre, apellido1, apellido2 = \"\") -> None:\n",
    "        self.Nombre = nombre\n",
    "        self.Apellido1 = apellido1\n",
    "        self.Apellido2 = apellido2\n",
    "\n",
    "        #Diversas funciones deel objeto Alumno\n",
    "        \n",
    "        def getEdad(self) -> int:\n",
    "            resultado = datetime.now().date() - self.FechaNacimiento\n",
    "            return resultado.days // 365\n",
    "\n",
    "\n",
    "        def getNombreCompleto(self) -> str:\n",
    "            return f\"{self.Nombre} {self.Apellido1} {self.Apellido2}\"\n",
    "\n",
    "        def setFechaNacimiento(self, fecha) -> bool:\n",
    "            try:\n",
    "                if (len(fecha) == 10):\n",
    "                    self.FechaNacimiento = datetime.strptime(fecha, \"%d-%m-%Y\").date()\n",
    "                \n",
    "                elif (len(fecha) == 8):\n",
    "                    self.FechaNacimiento = datetime.strptime(fecha, \"%d-%m-%y\").date()\n",
    "                \n",
    "                else:\n",
    "                    return False\n",
    "                return True\n",
    "            except:\n",
    "                return False\n",
    "\n",
    "\n",
    "\n",
    "\n",
    "\n",
    "\n",
    "\n",
    "demo = Alumno(\"Ana\", \"Gomez de barreda\", \"Sacaluga\") #Pilla los parámetros por orden\n",
    "\n",
    "\n",
    "print(demo.Nombre, demo.Apellido1)\n",
    "\n",
    "print(f\"{demo.Nombre} {demo.Apellido1} {demo.Apellido2}\") #Forma polite clean bonito\n",
    "\n",
    "print(f\"{demo.getNombreCompleto()}\")\n",
    "\n",
    "\n",
    "\n",
    "\n"
   ]
  },
  {
   "cell_type": "markdown",
   "metadata": {},
   "source": [
    "# Herencia y Herencia Múltiple"
   ]
  },
  {
   "cell_type": "code",
   "execution_count": null,
   "metadata": {},
   "outputs": [],
   "source": [
    "#Definición Clase A\n",
    "\n",
    "class A:\n",
    "    Numero1 = None\n",
    "    Numero2 = None\n",
    "\n",
    "    def __init__(self) -> None:\n",
    "        print(\"Constructor A\")\n",
    "\n",
    "    \n",
    "    def Suma(self) -> int:\n",
    "        return f\"Clase A: {str(self.Numero1 + self.Numero2)}\"\n",
    "    \n",
    "    def Resta(self) -> int:\n",
    "        return f\"Clase A: {str(self.Numero1 - self.Numero2)}\"\n",
    "    \n",
    "\n",
    "#Definición Clase B\n",
    "    \n",
    "\n",
    "class B:\n",
    "    Numero1 = None\n",
    "    Numero2 = None\n",
    "\n",
    "    def __init__(self, n1, n2) -> None:\n",
    "        self.Numero1 = n1\n",
    "        self.Numero2 = n2\n",
    "        print(\"Constructor B\")\n",
    "\n",
    "    \n",
    "    def Suma(self) -> int:\n",
    "        return f\"Clase B: {str(self.Numero1 + self.Numero2)}\"\n",
    "    \n",
    "    def Multiplica(self) -> int:\n",
    "        return f\"Clase B: {str(self.Numero1 * self.Numero2)}\"\n",
    "\n",
    "\n",
    "\n",
    "# Definimos la clase CALCULADORA que hereda de A y B\n",
    "\n",
    "class Calculadora(A,B): pass # El orden en el que se escribe la herencia SI tiene importancia\n",
    "\n",
    "#si se repiten funciones, solo toma la de la primera clase\n",
    "\n",
    "c = Calculadora()\n",
    "c.Numero1 = 10\n",
    "c.Numero2 = 15\n",
    "print(f\"Numero 1: {c.Numero1}\")\n",
    "print(f\"Numero 2: {c.Numero2}\")\n",
    "print(f\"Suma: {c.Suma()}\")\n",
    "print(f\"Resta: {c.Resta()}\")\n",
    "print(f\"Multiplica: {c.Multiplica()}\")"
   ]
  },
  {
   "cell_type": "markdown",
   "metadata": {},
   "source": [
    "# Variables y Métodos Privados"
   ]
  },
  {
   "cell_type": "code",
   "execution_count": null,
   "metadata": {},
   "outputs": [],
   "source": [
    "class Demo:\n",
    "    __Clave = \"Pinga!\"\n",
    "\n",
    "\n",
    "    def publico(self):\n",
    "        print(\"Todos pueden sabeeeerrr\")\n",
    "\n",
    "    def _privado(self):\n",
    "        print(\"Nadie debería saber\")\n",
    "\n",
    "    def __secreto(self):\n",
    "        print(f\"Nadie PUEDE saber, es un secreeetooo {self.__Clave}\")\n",
    "\n",
    "    def getSecreto(self, pw):\n",
    "        if (pw == \"Pestill0!\"):\n",
    "            self.__secreto()\n",
    "\n",
    "        else:\n",
    "            print(\"Acceso Denegado\")\n",
    "\n",
    "\n",
    "demo = Demo()\n",
    "demo.publico()\n",
    "demo._privado()\n",
    "#demo._Demo__secreto()\n",
    "\n",
    "\n",
    "demo.getSecreto(\"!\")\n",
    "print(dir(demo))\n",
    "\n",
    "    "
   ]
  },
  {
   "cell_type": "markdown",
   "metadata": {},
   "source": [
    "# Generadores\n",
    "\n",
    "<p>En lugar de hacer un único retorno, como las funciones, estos generadors son clases o funciones que devuelve más de un valor haciendo uso de <b>Yield y Next</b></a>\n",
    "\n",
    "<p><b></b></p>"
   ]
  },
  {
   "cell_type": "markdown",
   "metadata": {},
   "source": []
  },
  {
   "cell_type": "code",
   "execution_count": null,
   "metadata": {},
   "outputs": [],
   "source": []
  },
  {
   "cell_type": "code",
   "execution_count": null,
   "metadata": {},
   "outputs": [],
   "source": []
  },
  {
   "cell_type": "markdown",
   "metadata": {},
   "source": [
    "# Mondongo DB"
   ]
  },
  {
   "cell_type": "code",
   "execution_count": null,
   "metadata": {},
   "outputs": [],
   "source": [
    "#####################################################################\n",
    "# Trabajando con mongoDB                                            #\n",
    "#####################################################################\n",
    "\n",
    "from pymongo import MongoClient, collection\n",
    "from bson.objectid import ObjectId\n",
    "from pprint import pprint\n",
    "import sys, json\n",
    "\n",
    "######################################################\n",
    "# CONECTAR CON UN SERVIDOR mongoDB\n",
    "######################################################\n",
    "\n",
    "#clientDB = MongoClient(\"127.0.0.1\", \"27017\")\n",
    "#clientDB = MongoClient(\"localhost\", \"27017\")\n",
    "#clientDB = MongoClient(\"mongodb://USER:PASSWORD@<IP>:<PORT>/\")\n",
    "#clientDB = MongoClient(\"mongodb://127.0.0.1:27017/\")\n",
    "\n",
    "\n",
    "######################################################\n",
    "# EJECUTAR COMANDO - Mostrar el estado del servidor\n",
    "######################################################\n",
    "\n",
    "# Creamos un objeto que almacenamos en la variable clientDB\n",
    "# El objeto representa el cliente para trabajar con las bases de datos de mongoDB\n",
    "# Se requiere una cadena de conexión\n",
    "clientDB = MongoClient(\"mongodb://localhost:27017/\")\n",
    "\n",
    "# Nos posicionamos sobre una base de datos, en el ejemplo sobre la base de datos ADMIN\n",
    "db = clientDB.admin\n",
    "\n",
    "# Ejecutamos un comando utilizando la función COMMAND\n",
    "# El comando serverStatus nos retorna el estado del servidor en formato JSON\n",
    "result = db.command(\"serverStatus\")\n",
    "\n",
    "# Mostramos el resultado de la ejecución del comando\n",
    "print(result)\n",
    "\n",
    "\n",
    "######################################################\n",
    "# TRABAJAR CON BASES DE DATOS Y SUS COLECCIONES\n",
    "######################################################\n",
    "\n",
    "# Mostrar el nombre de las bases de datos\n",
    "print(clientDB.list_database_names())\n",
    "\n",
    "# El listado de bases de datos es una LISTA de python que podemos recorrer con un FOR\n",
    "for db in clientDB.list_database_names():\n",
    "    print(f\"Nombre: {db}\")\n",
    "    print(f\" -> {clientDB[db].list_collection_names()}\\n\")\n",
    "\n",
    "# Seleccionar una base de datos con la que vamos a trabajar\n",
    "db = clientDB.northwind             # Sintaxis de Objeto\n",
    "db2 = clientDB[\"northwind\"]         # Sintaxis de Colección\n",
    "\n",
    "# Motrar las colecciones que tiene una base de datos\n",
    "# Las colecciones son equivalente a las tablas en las bases de datos relacionales\n",
    "print(db.list_collection_names())\n",
    "print(db2.list_collection_names())\n",
    "print(\"\")\n",
    "\n",
    "# Seleccionar una colección con la que vamos a trabajar\n",
    "collection = clientDB.northwind.customers\n",
    "collection = clientDB[\"northwind\"][\"customers\"]\n",
    "collection = db.customers\n",
    "collection = db[\"customers\"]\n",
    "\n",
    "# Mostramos el número de documentos en la colección\n",
    "# Los documentos son equivalentes a los registros en bases de datos relacionales\n",
    "print(f\"{collection.estimated_document_count()} documentos en {collection.name}\")\n",
    "\n",
    "\n",
    "######################################################\n",
    "# TRABAJAR CON LOS DOCUMENTOS DE LAS COLECCIONES\n",
    "######################################################\n",
    "\n",
    "# Mostrar el documento por identificador del objeto\n",
    "# Filtro: _id = identificador\n",
    "result = collection.find_one({\"_id\": ObjectId(\"663a105807258656ed9eae3a\")})\n",
    "pprint(result)\n",
    "print(\"\")\n",
    "\n",
    "# Mostrar el primer el documento que coincide con el filtro\n",
    "# Filtro: Country = USA\n",
    "result = collection.find_one({\"Country\": \"USA\"})\n",
    "print(type(result))\n",
    "pprint(result)\n",
    "print(\"\")\n",
    "\n",
    "# Mostrar el todos los documentos que coincide con el filtro\n",
    "# Filtro: Country = USA\n",
    "# Retornar un cursor\n",
    "cursor = collection.find({\"Country\": \"USA\"})\n",
    "print(type(cursor))\n",
    "\n",
    "# Mostrar el número de documentos de una búsqueda\n",
    "# print(f\"Resultado de la búsqueda {cursor.count()} documentos.\")    # No disponible desde la versión\n",
    "print(f\"Resultado de la búsqueda {collection.count_documents({\"Country\": \"USA\"})} documentos.\")\n",
    "\n",
    "# Cuando ALIVE retorna TRUE significa que tenemos documentos pendientes de leer en el cursor\n",
    "print(f\"Documentos pendientes de leer: {cursor.alive}\")\n",
    "print(\"\")\n",
    "\n",
    "# Utilizamos WHILE para mostrar los documentos del cursor\n",
    "# El bloque del WHILE se ejecuta mientras ALIVE retorne TRUE (documentos pendientes de leer)\n",
    "# Con la función .NEXT() para posicionarnos en el siguiente documentos del cursor\n",
    "while (cursor.alive == True):\n",
    "    document = cursor.next()\n",
    "    pprint(document)\n",
    "    print(\"\")\n",
    "\n",
    "# Cuando ALIVE retorna FALSE significa que no tenemos documentos pedientes de leer en el cursor\n",
    "print(f\"Documentos pendientes de leer: {cursor.alive}\")\n",
    "print(\"\")\n",
    "\n",
    "######################################################\n",
    "# EJEMPLOS DE BÚSQUEDAS Y UTILIZACIÓN DE OPERADORES\n",
    "######################################################\n",
    "\n",
    "\"\"\"\n",
    "===================================================\n",
    " Listado de operadores relacionales\n",
    "===================================================\n",
    "$eq     - equal - igual\n",
    "$lt     - low than - menor que\n",
    "$lte    - low than equal - menor o igual que\n",
    "$gt     - greater than - mayor que\n",
    "$gte    - greater than equal - mayor o igual que\n",
    "$ne     - not equal - distinto\n",
    "$in     - in - dentro de\n",
    "$nin    - not in - no dentro de\n",
    "$regex  - cumple con la expresión regular\n",
    "\"\"\"\n",
    "\n",
    "cursor = collection.find({\"Country\": \"USA\"})\n",
    "cursor = collection.find({\"Country\": \"USA\"}).limit(3)\n",
    "cursor = collection.find({\"Country\": \"USA\"}).skip(5)\n",
    "cursor = collection.find({\"Country\": \"USA\"}).skip(5).limit(5)\n",
    "cursor = collection.find({\"Country\": \"USA\"}).sort(\n",
    "    \"City\")               # Ordenados de A a W\n",
    "cursor = collection.find({\"Country\": \"USA\"}).sort(\n",
    "    {\"City\": 1})          # Ordenados de A a W\n",
    "cursor = collection.find({\"Country\": \"USA\"}).sort(\n",
    "    {\"City\": -1})         # Ordenados de W a A\n",
    "\n",
    "# Buscar clientes de USA, ejemplos con y sin operador\n",
    "# Sin operador\n",
    "cursor = collection.find({\"Country\": \"USA\"})\n",
    "cursor = collection.find({\"Country\": {\"$eq\": \"USA\"}})                   # Con operador\n",
    "\n",
    "# Buscar clientes fuera de USA\n",
    "cursor = collection.find({\"Country\": {\"$ne\": \"USA\"}})\n",
    "\n",
    "# Buscar clientes de USA y Mexico, ordenados por país y ciudad\n",
    "cursor = collection.find({\"Country\": {\"$in\": [\"USA\", \"Mexico\"]}}).sort([(\"Country\", 1), (\"City\", 1)])\n",
    "\n",
    "# Buscar clientes que contenienen DE en la clave CustomerID\n",
    "cursor = collection.find({\"CustomerID\": {\"$regex\": \"DE\"}})\n",
    "\n",
    "# Buscar clientes que el CustomerID comienza por A y finaliza con 4 carácteres más\n",
    "cursor = collection.find({\"CustomerID\": {\"$regex\": \"1[A-Z]{4}\"}})\n",
    "\n",
    "# Buscar clientes de la ciudad de San Francisco en USA\n",
    "# El operador AND NO se especifica, pero se aplica de forma implicita o por defecto\n",
    "cursor = collection.find({\"Country\": \"USA\", \"City\": \"San Francisco\"})\n",
    "\n",
    "# Buscar clientes de la ciudad de San Francisco en USA utilizando el operador AND\n",
    "# El operador AND SI se especifica y se aplica de forma explicita\n",
    "cursor = collection.find(\n",
    "    {\"$and\": [{\"Country\": \"USA\"}, {\"City\": \"San Francisco\"}]})\n",
    "\n",
    "# Buscar clientes de GERMANY o USA utilizar el operador OR\n",
    "# El operador OR se especifica y se aplica de forma explicita\n",
    "cursor = collection.find({\"$or\": [{\"Country\": \"Germany\"}, {\"Country\": \"USA\"}]})\n",
    "\n",
    "# Buscar los clientes de Mexico y sus pedidos\n",
    "cursor = collection.find({\"Country\": \"Mexico\"})\n",
    "\n",
    "while (cursor.alive == True):\n",
    "    document = cursor.next()\n",
    "    print(f\"{document[\"CustomerID\"]}# {document[\"CompanyName\"]\n",
    "                                       } - {document[\"City\"]} ({document[\"Country\"]})\")\n",
    "\n",
    "    pedidos = clientDB.northwind.orders.find(\n",
    "        {\"CustomerID\": document[\"CustomerID\"]})\n",
    "    while (pedidos.alive):\n",
    "        pedido = pedidos.next()\n",
    "        print(f\">>> {pedido[\"OrderID\"]}# - {pedido[\"OrderDate\"]}\")\n",
    "\n",
    "    print(\"\")\n",
    "\n",
    "# Buscar los clientes de Mexico y sus pedidos utilizando agregación AGGREGATE\n",
    "cursor = db.customers.aggregate([\n",
    "    {\"$match\": {\"Country\": \"Mexico\"}},\n",
    "    {\"$sort\": {\"City\": 1}},\n",
    "    {\"$lookup\": {\n",
    "        \"from\": \"orders\",\n",
    "        \"localField\": \"CustomerID\",\n",
    "        \"foreignField\": \"CustomerID\",\n",
    "        \"as\": \"Pedidos\"\n",
    "    }}\n",
    "])\n",
    "\n",
    "while (cursor.alive == True):\n",
    "    doc = cursor.next()\n",
    "    print(f\"{doc[\"CustomerID\"]}# {doc[\"CompanyName\"]\n",
    "                                  } - {doc[\"City\"]} ({doc[\"Country\"]})\")\n",
    "\n",
    "    for pedido in doc[\"Pedidos\"]:\n",
    "        print(f\" >> {pedido[\"OrderID\"]}# - {pedido[\"OrderDate\"]}\")\n",
    "\n",
    "    print(\"\")\n",
    "\n",
    "\n",
    "# Buscamos todos los productos con UnitsInStock distinto de cero\n",
    "# Convertir UnitsInStock y UnitPrice en valores númericos\n",
    "# Calcular la suma de multiplica el precio por unidades de cada producto\n",
    "cursor = clientDB.northwind.products.find({\"UnitsInStock\": {\"$ne\": \"0\"}})\n",
    "\n",
    "total = 0\n",
    "\n",
    "while (cursor.alive):\n",
    "    p = cursor.next()\n",
    "    unidades = int(p[\"UnitsInStock\"])\n",
    "    precio = float(p[\"UnitPrice\"])\n",
    "    total = total + (unidades * precio)\n",
    "\n",
    "print(f\"Valor de stock: {total:1.2f}\")\n",
    "\n",
    "\n",
    "# Utilizamos AGGREGATE para calcular el valor del stock\n",
    "query = [\n",
    "    {\"$match\": {\"UnitsInStock\": {\"$ne\": \"0\"}}},\n",
    "    {\"$addFields\": {\n",
    "        \"Precio\": {\"$toDouble\": \"$UnitPrice\"},\n",
    "        \"Unidades\":  {\"$toInt\": \"$UnitsInStock\"}\n",
    "    }},\n",
    "    {\"$group\": {\n",
    "        \"_id\": \"Valor del Stock\",\n",
    "        \"Total\": {\"$sum\": {\"$multiply\": [\"$Precio\", \"$Unidades\"]}},\n",
    "        \"Productos\": {\"$sum\": 1}\n",
    "    }}\n",
    "]\n",
    "\n",
    "cursor = clientDB.northwind.products.aggregate(query)\n",
    "pprint(cursor.next())\n",
    "\n",
    "\n",
    "######################################################\n",
    "# INSERTAR DOCUMENTOS\n",
    "######################################################\n",
    "\n",
    "# Insertamos un documento partiendo de un objeto de python\n",
    "class Customer:\n",
    "    CustomerID = None\n",
    "    CompanyName = None\n",
    "    ContactName = None\n",
    "    ContactTitle = None\n",
    "    Address = None\n",
    "    City = None\n",
    "    Region = None\n",
    "    PostalCode = None\n",
    "    Country = None\n",
    "    Phone = None\n",
    "    Fax = None\n",
    "\n",
    "\n",
    "cliente = Customer()\n",
    "cliente.CustomerID = \"DEMO1\"\n",
    "cliente.CompanyName = \"Empresa Uno, SL\"\n",
    "cliente.ContactName = \"Borja\"\n",
    "cliente.ContactTitle = \"Gerente\"\n",
    "cliente.Address = \"Calle Uno, S/N\"\n",
    "cliente.City = \"Madrid\"\n",
    "cliente.Region = \"Madrid\"\n",
    "cliente.PostalCode = \"28016\"\n",
    "cliente.Country = \"España\"\n",
    "cliente.Phone = \"900100100\"\n",
    "cliente.Fax = \"900100200\"\n",
    "\n",
    "# Todos los objetos de python tiene una variable o propiedad que es __dict__\n",
    "# que retorna un diccionario de todas sus variables\n",
    "pprint(cliente.__dict__)\n",
    "\n",
    "id = collection.insert_one(cliente.__dict__).inserted_id\n",
    "print(f\"ID del nuevo documento: {id}\")\n",
    "\n",
    "# Insertamos partiendo de un diccionario\n",
    "\n",
    "cliente2 = {\"CustomerID\": \"DEMO2\",\n",
    "            \"CompanyName\": \"Empresa Dos, SL\",\n",
    "            \"ContactName\": \"Borja Cabeza\",\n",
    "            \"ContactTitle\": \"Gerente\",\n",
    "            \"Address\": \"Calle Dos S/N\",\n",
    "            \"City\": \"Madrid\",\n",
    "            \"Region\": \"Madrid\",\n",
    "            \"PostalCode\": \"28019\",\n",
    "            \"Country\": \"España\",\n",
    "            \"Phone\": \"910 101 102\",\n",
    "            \"Fax\": \"910 101 103\"}\n",
    "\n",
    "id = collection.insert_one(cliente2).inserted_id\n",
    "print(f\"ID del nuevo documento: {id}\")\n",
    "\n",
    "\n",
    "######################################################\n",
    "# ACTUALIZAR DOCUMENTOS\n",
    "######################################################\n",
    "\n",
    "cliente = collection.find_one({\"CustomerID\": \"DEMO1\"})\n",
    "pprint(cliente)\n",
    "\n",
    "# Actualizamos uno o varios documentos de una colección\n",
    "query = {\"CustomerID\": \"DEMO1\"}\n",
    "\n",
    "# Los nuevo valores para el documento o documentos que vamos actualizar\n",
    "newValues = {\"$set\": {\n",
    "    \"ContactName\": \"Ana Sanz\",\n",
    "    \"PostalCode\": \"28013\"\n",
    "}}\n",
    "\n",
    "# Actualizar el primer documento que retorna la consulta\n",
    "result = collection.update_one(query, newValues)\n",
    "\n",
    "print(f\"{result.matched_count} documentos encontrados\")\n",
    "print(f\"{result.modified_count} documentos modificados\")\n",
    "print(result)\n",
    "\n",
    "# Actualizar el todos los documentos que retorna la consulta\n",
    "result = collection.update_many(query, newValues)\n",
    "\n",
    "print(f\"{result.matched_count} documentos encontrados\")\n",
    "print(f\"{result.modified_count} documentos modificados\")\n",
    "print(result)\n",
    "\n",
    "pprint(collection.find_one(query))\n",
    "\n",
    "\n",
    "######################################################\n",
    "# ELIMINAR DOCUMENTOS\n",
    "######################################################\n",
    "\n",
    "# Eliminar el primer documento coincidente con el filtro de búsqueda\n",
    "result = collection.delete_one({\"CustomerID\": \"DEMO2\"})\n",
    "print(result)\n",
    "print(f\"{result.deleted_count} documentos eliminados.\")\n",
    "\n",
    "# Eliminar todos los documentos coincidentes con el filtro de búsqueda\n",
    "result = collection.delete_many({\"CustomerID\": \"DEMO2\"})\n",
    "print(result)\n",
    "print(f\"{result.deleted_count} documentos eliminados.\")\n"
   ]
  },
  {
   "cell_type": "markdown",
   "metadata": {},
   "source": [
    "# SQL, A veces no funciona pq se cae la base de datos y pymssql es una puta en mac"
   ]
  },
  {
   "cell_type": "code",
   "execution_count": null,
   "metadata": {},
   "outputs": [],
   "source": [
    "import pymssql\n",
    "import time\n",
    "\n",
    "\n",
    "# Establecer la conexión con la base de datos\n",
    "connection = pymssql.connect(\n",
    "    server=\"hostdb-eoi.database.windows.net\",\n",
    "    port=\"1433\",\n",
    "    user=\"Administrador\",\n",
    "    password=\"azurePa$$w0rd\",\n",
    "    database=\"Northwind\"\n",
    ")\n",
    "\n",
    "cursor = connection.cursor(as_dict=True)\n",
    "\n",
    "tiempo = time.time()\n",
    "\n",
    "######################################################\n",
    "# SELECT, Ejemplos de Join\n",
    "######################################################\n",
    "\n",
    "query = \"\"\"\n",
    "\n",
    "    SELECT o.OrderID, o.CustomerID, o.OrderDate, o.EmployeeID, e.FirstName, e.LastName \n",
    "    FROM dbo.Orders AS o\n",
    "    dbo.Employees AS e\n",
    "    Where o.EmployeeID = e.EmployeeID\n",
    "\"\"\"\n",
    "\n",
    "\n",
    "\n",
    "\n",
    "#Ejemplo que se realiza con una consulta\n",
    "cursor.execute(\"SELECT * FROM dbo.Orders\")\n",
    "\n",
    "for row in cursor.fetchall():\n",
    "    print(f\"-> {row['OrderID']}# - {row['CustomerID']} {row['OrderDate']}\")\n",
    "\n",
    "    cursor2 = connection.cursor(as_dict=True)\n",
    "\n",
    "    print(f\"    Pedido gestionado por {row['EmployeeID']}\")\n",
    "\n",
    "print(f\"--- Tiempo de Ejecución ----\")\n",
    "print(f\"%s Segundos\" % (time.time() - tiempo))"
   ]
  },
  {
   "cell_type": "markdown",
   "metadata": {},
   "source": [
    "# Select, Las agrupaciones"
   ]
  },
  {
   "cell_type": "code",
   "execution_count": null,
   "metadata": {},
   "outputs": [],
   "source": [
    "import time\n",
    "import sys\n",
    "!{sys.executable} -m pip install --upgrade pip\n",
    "!{sys.executable} -m pip install pymssql\n",
    "\n",
    "import pymssql\n",
    "\n",
    "connection = pymssql.connect(\n",
    "    server=\"hostdb-eoi.database.windows.net\",\n",
    "    port=\"1433\",\n",
    "    user=\"Administrador\",\n",
    "    password=\"azurePa$$w0rd\",\n",
    "    database=\"Northwind\"\n",
    ")\n",
    "cursor = connection.cursor(as_dict=True)\n",
    "\n",
    "tiempo = time.time()\n",
    "\n",
    "#Listado de clientes de USA y el número de pedidos de cada cliente\n",
    "\n",
    "cursor.execute(\"SELECT * FROM dbo.Customers WHERE Country = 'USA'\")\n",
    "\n",
    "for row in cursor.fetchall():\n",
    "    cursor2 = connection.cursor()\n",
    "    cursor2.execute(f\"SELECT COUNT(*) FROM dbo.Orders WHERE CustomerID = '{row['CustomerID']}'\")\n",
    "    print(f\"{row['CustomerID']}# {row['CompanyName']} -> {cursor2.fetchone()} pedidos\")\n",
    "\n",
    "print(f\"--- Tiempo de Ejecución ----\")\n",
    "print(f\"%s Segundos\" % (time.time() - tiempo))"
   ]
  },
  {
   "cell_type": "markdown",
   "metadata": {},
   "source": [
    "# Same ejercicio pero con query"
   ]
  },
  {
   "cell_type": "code",
   "execution_count": 3,
   "metadata": {},
   "outputs": [
    {
     "name": "stdout",
     "output_type": "stream",
     "text": [
      "GREAL# Great Lakes Food Market -> 11 pedidos\n",
      "HUNGC# Hungry Coyote Import Store -> 5 pedidos\n",
      "LAZYK# Lazy K Kountry Store -> 2 pedidos\n",
      "LETSS# Let's Stop N Shop -> 4 pedidos\n",
      "LONEP# Lonesome Pine Restaurant -> 8 pedidos\n",
      "OLDWO# Old World Delicatessen -> 10 pedidos\n",
      "RATTC# Rattlesnake Canyon Grocery -> 18 pedidos\n",
      "SAVEA# Save-a-lot Markets -> 31 pedidos\n",
      "SPLIR# Split Rail Beer & Ale -> 9 pedidos\n",
      "THEBI# The Big Cheese -> 4 pedidos\n",
      "THECR# The Cracker Box -> 3 pedidos\n",
      "TRAIH# Trail's Head Gourmet Provisioners -> 3 pedidos\n",
      "WHITC# White Clover Markets -> 14 pedidos\n",
      "--- Tiempo de Ejecución ----\n",
      "0.10550808906555176 Segundos\n"
     ]
    },
    {
     "ename": "",
     "evalue": "",
     "output_type": "error",
     "traceback": [
      "\u001b[1;31mThe Kernel crashed while executing code in the current cell or a previous cell. \n",
      "\u001b[1;31mPlease review the code in the cell(s) to identify a possible cause of the failure. \n",
      "\u001b[1;31mClick <a href='https://aka.ms/vscodeJupyterKernelCrash'>here</a> for more info. \n",
      "\u001b[1;31mView Jupyter <a href='command:jupyter.viewOutput'>log</a> for further details."
     ]
    }
   ],
   "source": [
    "import time\n",
    "import sys\n",
    "\n",
    "import pymssql\n",
    "\n",
    "connection = pymssql.connect(\n",
    "    server=\"hostdb-eoi.database.windows.net\",\n",
    "    port=\"1433\",\n",
    "    user=\"Administrador\",\n",
    "    password=\"azurePa$$w0rd\",\n",
    "    database=\"Northwind\"\n",
    ")\n",
    "cursor = connection.cursor(as_dict=True)\n",
    "\n",
    "tiempo = time.time()\n",
    "\n",
    "query = \"\"\"\n",
    "    SELECT c.CustomerID, c.CompanyName, COUNT(o.OrderID) AS NumPedidos\n",
    "    FROM dbo.Customers c\n",
    "    JOIN dbo.Orders o\n",
    "    ON c.CustomerID = o.CustomerID\n",
    "    WHERE c.Country = 'USA'\n",
    "    GROUP BY c.CustomerID, c.CompanyName\n",
    "\"\"\"\n",
    "cursor.execute(query)\n",
    "for row in cursor.fetchall():\n",
    "    print(f\"{row['CustomerID']}# {row['CompanyName']} -> {row['NumPedidos']} pedidos\")\n",
    "\n",
    "\n",
    "#DEBUG\n",
    "print(f\"--- Tiempo de Ejecución ----\")\n",
    "print(f\"%s Segundos\" % (time.time() - tiempo))\n",
    "\n",
    "quit()"
   ]
  }
 ],
 "metadata": {
  "kernelspec": {
   "display_name": "Python 3",
   "language": "python",
   "name": "python3"
  },
  "language_info": {
   "codemirror_mode": {
    "name": "ipython",
    "version": 3
   },
   "file_extension": ".py",
   "mimetype": "text/x-python",
   "name": "python",
   "nbconvert_exporter": "python",
   "pygments_lexer": "ipython3",
   "version": "3.8.10"
  }
 },
 "nbformat": 4,
 "nbformat_minor": 2
}
