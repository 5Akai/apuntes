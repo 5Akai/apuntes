{
 "cells": [
  {
   "cell_type": "markdown",
   "metadata": {},
   "source": [
    "# Asignación Simultanea"
   ]
  },
  {
   "cell_type": "code",
   "execution_count": 26,
   "metadata": {},
   "outputs": [
    {
     "name": "stdout",
     "output_type": "stream",
     "text": [
      "A: 10\n",
      "B: 5\n"
     ]
    }
   ],
   "source": [
    "#Declaramos variables\n",
    "a = 5\n",
    "b = 10\n",
    "\n",
    "#almacenar valores\n",
    "temp = a\n",
    "\n",
    "#intercambiar valores\n",
    "\n",
    "\n",
    "a = b\n",
    "b = temp\n",
    "\n",
    "\n",
    "print(f\"A: {a}\")\n",
    "\n",
    "print(f\"B: {b}\")"
   ]
  },
  {
   "cell_type": "markdown",
   "metadata": {},
   "source": [
    "# Conversión de variables"
   ]
  },
  {
   "cell_type": "code",
   "execution_count": 25,
   "metadata": {},
   "outputs": [
    {
     "name": "stdout",
     "output_type": "stream",
     "text": [
      "A ahora mismo es float.\n",
      "A = <class 'float'> \n",
      "\n",
      "A se ha convertido a string.\n",
      "A = <class 'str'> \n",
      "\n",
      "También se puede convertir y almacenar en otra variable.\n",
      "Por ejemplo, el valor A se ha convertido a float y almacenado en flotante.  Flotante = <class 'float'> \n",
      "\n",
      "También podemos convertir A en float de nuevo.\n",
      "A = <class 'float'> \n",
      "\n",
      "Pero nos da igual, porque podemos imprimirlo y transformarlo a la vez con type(str(a))\n",
      " A = <class 'str'> \n",
      "\n",
      "El poder de un dios en manos de unos ilusos.\n"
     ]
    }
   ],
   "source": [
    "#Declaramo\n",
    "\n",
    "a = 5.3\n",
    "b = \"25\"\n",
    "c = \"25.7\"\n",
    "d = \"a 8.4\"\n",
    "\n",
    "#Conversiones alfanuméricas con STR y numéricas con INT o FLOAT\n",
    "print(\"A ahora mismo es float.\")\n",
    "print(\"A =\", type(a), \"\\n\")\n",
    "a = str(a)\n",
    "print(\"A se ha convertido a string.\")\n",
    "print(\"A =\", type(a), \"\\n\")\n",
    "\n",
    "flotante = float(a)\n",
    "print(\"También se puede convertir y almacenar en otra variable.\")\n",
    "print(\"Por ejemplo, el valor A se ha convertido a float y almacenado en flotante.  Flotante =\", type(flotante), \"\\n\")\n",
    "\n",
    "a = float(a)\n",
    "print(\"También podemos convertir A en float de nuevo.\")\n",
    "print(\"A =\", type(a), \"\\n\")\n",
    "\n",
    "print(\"Pero nos da igual, porque podemos imprimirlo y transformarlo a la vez con\",'type(str(a))\\n',\"A =\", type(str(a)), \"\\n\")\n",
    "\n",
    "print(\"El poder de un dios en manos de unos ilusos.\")"
   ]
  },
  {
   "cell_type": "markdown",
   "metadata": {},
   "source": [
    "No se puede convertir letras a formatos de números, como float, lógicamente"
   ]
  },
  {
   "cell_type": "markdown",
   "metadata": {},
   "source": [
    "# Trabajando y formateando cadenas"
   ]
  },
  {
   "cell_type": "code",
   "execution_count": 72,
   "metadata": {},
   "outputs": [
    {
     "name": "stdout",
     "output_type": "stream",
     "text": [
      "Holamundo !!!1!\n",
      "Longitud de la cadena: 15\n",
      "Posicion 0: H Posicion 1: o Posicion 2: l Posicion 3: a Posicion 4: m Posicion -11: m Posicion -2: 1 Posicion -1: !\n",
      "desde la posición 0 a la 5(2 y 6 no incluida): lamu\n",
      "Todo minúscula con .lower: holamundo !!!1!\n",
      "Todo mayúscula con .upper: HOLAMUNDO !!!1!\n",
      "Contar cuanto hay con .count, pej letras o: 2\n",
      "Indicar si es todo dígitos: False\n",
      "Aquí indicamos si el valor 14 es todo dígitos: True\n"
     ]
    }
   ],
   "source": [
    "#Declaración de Variables\n",
    "\n",
    "Texto = \"Holamundo !!!1!\"\n",
    "\n",
    "print(Texto)\n",
    "\n",
    "# Mostrar determinados caractéres de la cadena, indicando posición o Rango\n",
    "\n",
    "#Para esta chamba mejor saber la longitud de la cadena (lenght)\n",
    "print(\"Longitud de la cadena:\", len(Texto))\n",
    "\n",
    "# Las posiciones empiezan por 0, para mostrar el orden inverso, osea las ultimas se pone un menos (-) \n",
    "print(f\"Posicion 0: {Texto[0]}\", f\"Posicion 1: {Texto[1]}\", f\"Posicion 2: {Texto[2]}\", f\"Posicion 3: {Texto[3]}\", f\"Posicion 4: {Texto[4]}\", f\"Posicion -11: {Texto[-11]}\", f\"Posicion -2: {Texto[-2]}\", f\"Posicion -1: {Texto[-1]}\")\n",
    "\n",
    "print(f\"desde la posición 0 a la 5(2 y 6 no incluida): {Texto[2:6]}\")\n",
    "\n",
    "print(f\"Todo minúscula con .lower: {Texto.lower()}\")\n",
    "print(f\"Todo mayúscula con .upper: {Texto.upper()}\")\n",
    "\n",
    "print(f\"Contar cuanto hay con .count, pej letras o: { Texto.count(\"o\")}\")\n",
    "\n",
    "print(f\"Indicar si es todo dígitos: {Texto.isdigit()}\")\n",
    "print(f\"Aquí indicamos si el valor 14 es todo dígitos: {\"14\".isdigit()}\")\n"
   ]
  },
  {
   "cell_type": "markdown",
   "metadata": {},
   "source": [
    "# Formatear cadenas de texto y números"
   ]
  },
  {
   "cell_type": "code",
   "execution_count": 83,
   "metadata": {},
   "outputs": [
    {
     "name": "stdout",
     "output_type": "stream",
     "text": [
      "Hola Mundo !!!\n",
      "Hola Mundo !!!\n",
      "Hola Mundo !!!\n",
      "Hola Mundo !!!\n",
      "Resultado: 3.3333333333333335\n",
      "Resultado: 3.3333333333333335\n",
      "Resultado: 3.3333333333333335\n",
      "Resultado 2 cifras: 3.33\n",
      "Resultado 5 cifras: 3.33333\n"
     ]
    }
   ],
   "source": [
    "mensaje = \"Mundo\"\n",
    "\n",
    "print(\"Hola \" + mensaje + \" !!!\")\n",
    "print(\"Hola {s} !!!\".format(s = mensaje))\n",
    "print(\"Hola {} !!!\".format(mensaje))\n",
    "print(f\"Hola {mensaje} !!!\")\n",
    "\n",
    "resultado = 10 / 3\n",
    "print(\"Resultado: \" + str(resultado))\n",
    "print(f\"Resultado: {resultado}\")\n",
    "print(\"Resultado: {r}\".format(r=resultado))\n",
    "#:1.nf es para que haya n cantidad de cifras en el resultado\n",
    "print(\"Resultado 2 cifras: {r:1.2f}\".format(r=resultado))\n",
    "print(\"Resultado 5 cifras: {r:3.5f}\".format(r=resultado))"
   ]
  },
  {
   "cell_type": "markdown",
   "metadata": {},
   "source": [
    "# Fechas y Tempo"
   ]
  },
  {
   "cell_type": "code",
   "execution_count": 101,
   "metadata": {},
   "outputs": [
    {
     "name": "stdout",
     "output_type": "stream",
     "text": [
      "Fecha:  2024-04-25\n",
      "Hora: 2024-04-25 12:47:07.321410\n",
      "Día: 25\n",
      "Día: 25\n",
      "MEs: 4\n",
      "Mes: 04\n",
      "Año: 2024\n",
      "Año: 2024\n",
      "Hora: 12\n",
      "Minutos: 51\n",
      "Segundos: 13\n",
      "Milisegundos: 901490\n"
     ]
    }
   ],
   "source": [
    "#Importar Librerías de fecha y hora\n",
    "from datetime import datetime\n",
    "\n",
    "\n",
    "#Toma la fecha en el momento que se ejecuta la línea de código, lo toma de la fecha y hora del sistema, btw\n",
    "\n",
    "Fecha1 = datetime.now().date()\n",
    "print(\"Fecha: \", Fecha1)\n",
    "\n",
    "\n",
    "#Same shit con la hora\n",
    "\n",
    "Hora1 = datetime.now()\n",
    "print(\"Hora:\", hora1)\n",
    "\n",
    "#Mostramos parete de la fecha almacenada\n",
    "#zfill es una función de los string, por eso lo convertimos. Lo que hace es añadir ceros al principio de la cadena, hasta que llega a la longitud especificada en la función, en el caso de los ejemplos, 2\n",
    "\n",
    "\n",
    "print(f\"Día: {Hora1.day}\")\n",
    "print(f\"Día: {str(Hora1.day).zfill(2)}\")\n",
    "print(f\"MEs: {Hora1.month}\")\n",
    "print(f\"Mes: {str(Hora1.month).zfill(2)}\")\n",
    "print(f\"Año: {Hora1.year}\")\n",
    "print(f\"Año: {str(Hora1.year).zfill(2)}\")\n",
    "print(f\"Hora: {Hora1.hour}\")\n",
    "print(f\"Minutos: {Hora1.minute}\")\n",
    "print(f\"Segundos: {Hora1.second}\")\n",
    "print(f\"Milisegundos: {Hora1.microsecond}\")"
   ]
  },
  {
   "cell_type": "markdown",
   "metadata": {},
   "source": [
    "Convertir un texto a una fecha utilizando STRPTIME"
   ]
  },
  {
   "cell_type": "code",
   "execution_count": 109,
   "metadata": {},
   "outputs": [
    {
     "name": "stdout",
     "output_type": "stream",
     "text": [
      "Fecha2: 2024-04-25\n",
      "2000-08-10\n",
      "2024-04-25\n",
      "tienes 24 años\n",
      "\n",
      "tienes 24.format años\n",
      "\n",
      "Tienes 23.723287671232878 años.\n",
      "Tienes 23 años.\n",
      "(23, 264)\n",
      "Tienes 23 años y 264 días\n",
      "\n",
      "8659 days, 0:00:00\n"
     ]
    }
   ],
   "source": [
    "from datetime import datetime\n",
    "from datetime import date\n",
    "\n",
    "\n",
    "ahora = datetime.now().date()\n",
    "fecha = input(\"Escribe tu fecha de nacimiento, jeje uwu  (dd-mm-aaaa): \")\n",
    "dt = datetime.strptime(fecha,\"%d-%m-%Y\").date()\n",
    "print(f\"Fecha2: {ahora}\")\n",
    "print(dt)\n",
    "print(ahora)\n",
    "dtr = ahora - dt\n",
    "dtr2 = ahora.year - dt.year\n",
    "print(f\"tienes {ahora.year - dt.year} años\\n\")\n",
    "\n",
    "print(f\"tienes {dtr2}.format años\\n\")\n",
    "\n",
    "\n",
    "#Opción 2\n",
    "\n",
    "print(f\"Tienes {dtr.days / 365} años.\")  # División con parte decimal\n",
    "print(f\"Tienes {dtr.days // 365} años.\") # División SIN parte decimal\n",
    "\n",
    "#Opción 3\n",
    "edad = (divmod(dtr.days, 365))      # Devuelve el resulto y el resto y los guarda en una tupla\n",
    "\n",
    "\n",
    "\n",
    "print(edad)\n",
    "\n",
    "print(f\"Tienes {edad[0]} años y {edad[1]} días\")\n",
    "\n",
    "print(\"\")\n",
    "print(dtr)\n"
   ]
  },
  {
   "cell_type": "code",
   "execution_count": 5,
   "metadata": {},
   "outputs": [
    {
     "name": "stdout",
     "output_type": "stream",
     "text": [
      "1714116179.0755963\n",
      "segundo desde 01-01-1970: 1714116179.0755963 \n",
      "\n",
      "Tupla: time.struct_time(tm_year=2024, tm_mon=4, tm_mday=26, tm_hour=9, tm_min=22, tm_sec=59, tm_wday=4, tm_yday=117, tm_isdst=1)\n",
      "Año: 2024 \n",
      "\n",
      "Fecha: Fri Apr 26 09:22:59 2024 \n",
      "\n"
     ]
    }
   ],
   "source": [
    "from datetime import datetime\n",
    "\n",
    "import time\n",
    "import locale\n",
    "\n",
    "locale.setlocale(locale.LC_TIME, \"es_ES.UTF-8\")\n",
    "\n",
    "\n",
    "#Time retorna la cantidad de segundos transcuridos desde el comienzo que se fijea en el 1 de enero de 1970 a las 00:00\n",
    "t1 = time.time()\n",
    "\n",
    "print(t1)\n",
    "\n",
    "print(f\"segundo desde 01-01-1970: {t1} \\n\")\n",
    "\n",
    "#Transformación de segundos en fecha\n",
    "\n",
    "t2 = time.localtime(t1)\n",
    "print(f\"Tupla: {t2}\")\n",
    "print(f\"Año: {t2.tm_year} \\n\")\n",
    "\n",
    "\n",
    "#Conversión de T2 en una representación de fecha y hora local\n",
    "\n",
    "print(f\"Fecha: {time.asctime(t2)} \\n\")"
   ]
  },
  {
   "cell_type": "markdown",
   "metadata": {},
   "source": [
    "Diferentes zonas horarias   "
   ]
  },
  {
   "cell_type": "code",
   "execution_count": 3,
   "metadata": {},
   "outputs": [
    {
     "name": "stdout",
     "output_type": "stream",
     "text": [
      "Requirement already satisfied: pip in c:\\users\\akai\\appdata\\local\\programs\\python\\python312\\lib\\site-packages (24.0)\n",
      "Requirement already satisfied: pytz in c:\\users\\akai\\appdata\\local\\programs\\python\\python312\\lib\\site-packages (2024.1)\n",
      "['Africa/Abidjan', 'Africa/Accra', 'Africa/Addis_Ababa', 'Africa/Algiers', 'Africa/Asmara', 'Africa/Asmera', 'Africa/Bamako', 'Africa/Bangui', 'Africa/Banjul', 'Africa/Bissau', 'Africa/Blantyre', 'Africa/Brazzaville', 'Africa/Bujumbura', 'Africa/Cairo', 'Africa/Casablanca', 'Africa/Ceuta', 'Africa/Conakry', 'Africa/Dakar', 'Africa/Dar_es_Salaam', 'Africa/Djibouti', 'Africa/Douala', 'Africa/El_Aaiun', 'Africa/Freetown', 'Africa/Gaborone', 'Africa/Harare', 'Africa/Johannesburg', 'Africa/Juba', 'Africa/Kampala', 'Africa/Khartoum', 'Africa/Kigali', 'Africa/Kinshasa', 'Africa/Lagos', 'Africa/Libreville', 'Africa/Lome', 'Africa/Luanda', 'Africa/Lubumbashi', 'Africa/Lusaka', 'Africa/Malabo', 'Africa/Maputo', 'Africa/Maseru', 'Africa/Mbabane', 'Africa/Mogadishu', 'Africa/Monrovia', 'Africa/Nairobi', 'Africa/Ndjamena', 'Africa/Niamey', 'Africa/Nouakchott', 'Africa/Ouagadougou', 'Africa/Porto-Novo', 'Africa/Sao_Tome', 'Africa/Timbuktu', 'Africa/Tripoli', 'Africa/Tunis', 'Africa/Windhoek', 'America/Adak', 'America/Anchorage', 'America/Anguilla', 'America/Antigua', 'America/Araguaina', 'America/Argentina/Buenos_Aires', 'America/Argentina/Catamarca', 'America/Argentina/ComodRivadavia', 'America/Argentina/Cordoba', 'America/Argentina/Jujuy', 'America/Argentina/La_Rioja', 'America/Argentina/Mendoza', 'America/Argentina/Rio_Gallegos', 'America/Argentina/Salta', 'America/Argentina/San_Juan', 'America/Argentina/San_Luis', 'America/Argentina/Tucuman', 'America/Argentina/Ushuaia', 'America/Aruba', 'America/Asuncion', 'America/Atikokan', 'America/Atka', 'America/Bahia', 'America/Bahia_Banderas', 'America/Barbados', 'America/Belem', 'America/Belize', 'America/Blanc-Sablon', 'America/Boa_Vista', 'America/Bogota', 'America/Boise', 'America/Buenos_Aires', 'America/Cambridge_Bay', 'America/Campo_Grande', 'America/Cancun', 'America/Caracas', 'America/Catamarca', 'America/Cayenne', 'America/Cayman', 'America/Chicago', 'America/Chihuahua', 'America/Ciudad_Juarez', 'America/Coral_Harbour', 'America/Cordoba', 'America/Costa_Rica', 'America/Creston', 'America/Cuiaba', 'America/Curacao', 'America/Danmarkshavn', 'America/Dawson', 'America/Dawson_Creek', 'America/Denver', 'America/Detroit', 'America/Dominica', 'America/Edmonton', 'America/Eirunepe', 'America/El_Salvador', 'America/Ensenada', 'America/Fort_Nelson', 'America/Fort_Wayne', 'America/Fortaleza', 'America/Glace_Bay', 'America/Godthab', 'America/Goose_Bay', 'America/Grand_Turk', 'America/Grenada', 'America/Guadeloupe', 'America/Guatemala', 'America/Guayaquil', 'America/Guyana', 'America/Halifax', 'America/Havana', 'America/Hermosillo', 'America/Indiana/Indianapolis', 'America/Indiana/Knox', 'America/Indiana/Marengo', 'America/Indiana/Petersburg', 'America/Indiana/Tell_City', 'America/Indiana/Vevay', 'America/Indiana/Vincennes', 'America/Indiana/Winamac', 'America/Indianapolis', 'America/Inuvik', 'America/Iqaluit', 'America/Jamaica', 'America/Jujuy', 'America/Juneau', 'America/Kentucky/Louisville', 'America/Kentucky/Monticello', 'America/Knox_IN', 'America/Kralendijk', 'America/La_Paz', 'America/Lima', 'America/Los_Angeles', 'America/Louisville', 'America/Lower_Princes', 'America/Maceio', 'America/Managua', 'America/Manaus', 'America/Marigot', 'America/Martinique', 'America/Matamoros', 'America/Mazatlan', 'America/Mendoza', 'America/Menominee', 'America/Merida', 'America/Metlakatla', 'America/Mexico_City', 'America/Miquelon', 'America/Moncton', 'America/Monterrey', 'America/Montevideo', 'America/Montreal', 'America/Montserrat', 'America/Nassau', 'America/New_York', 'America/Nipigon', 'America/Nome', 'America/Noronha', 'America/North_Dakota/Beulah', 'America/North_Dakota/Center', 'America/North_Dakota/New_Salem', 'America/Nuuk', 'America/Ojinaga', 'America/Panama', 'America/Pangnirtung', 'America/Paramaribo', 'America/Phoenix', 'America/Port-au-Prince', 'America/Port_of_Spain', 'America/Porto_Acre', 'America/Porto_Velho', 'America/Puerto_Rico', 'America/Punta_Arenas', 'America/Rainy_River', 'America/Rankin_Inlet', 'America/Recife', 'America/Regina', 'America/Resolute', 'America/Rio_Branco', 'America/Rosario', 'America/Santa_Isabel', 'America/Santarem', 'America/Santiago', 'America/Santo_Domingo', 'America/Sao_Paulo', 'America/Scoresbysund', 'America/Shiprock', 'America/Sitka', 'America/St_Barthelemy', 'America/St_Johns', 'America/St_Kitts', 'America/St_Lucia', 'America/St_Thomas', 'America/St_Vincent', 'America/Swift_Current', 'America/Tegucigalpa', 'America/Thule', 'America/Thunder_Bay', 'America/Tijuana', 'America/Toronto', 'America/Tortola', 'America/Vancouver', 'America/Virgin', 'America/Whitehorse', 'America/Winnipeg', 'America/Yakutat', 'America/Yellowknife', 'Antarctica/Casey', 'Antarctica/Davis', 'Antarctica/DumontDUrville', 'Antarctica/Macquarie', 'Antarctica/Mawson', 'Antarctica/McMurdo', 'Antarctica/Palmer', 'Antarctica/Rothera', 'Antarctica/South_Pole', 'Antarctica/Syowa', 'Antarctica/Troll', 'Antarctica/Vostok', 'Arctic/Longyearbyen', 'Asia/Aden', 'Asia/Almaty', 'Asia/Amman', 'Asia/Anadyr', 'Asia/Aqtau', 'Asia/Aqtobe', 'Asia/Ashgabat', 'Asia/Ashkhabad', 'Asia/Atyrau', 'Asia/Baghdad', 'Asia/Bahrain', 'Asia/Baku', 'Asia/Bangkok', 'Asia/Barnaul', 'Asia/Beirut', 'Asia/Bishkek', 'Asia/Brunei', 'Asia/Calcutta', 'Asia/Chita', 'Asia/Choibalsan', 'Asia/Chongqing', 'Asia/Chungking', 'Asia/Colombo', 'Asia/Dacca', 'Asia/Damascus', 'Asia/Dhaka', 'Asia/Dili', 'Asia/Dubai', 'Asia/Dushanbe', 'Asia/Famagusta', 'Asia/Gaza', 'Asia/Harbin', 'Asia/Hebron', 'Asia/Ho_Chi_Minh', 'Asia/Hong_Kong', 'Asia/Hovd', 'Asia/Irkutsk', 'Asia/Istanbul', 'Asia/Jakarta', 'Asia/Jayapura', 'Asia/Jerusalem', 'Asia/Kabul', 'Asia/Kamchatka', 'Asia/Karachi', 'Asia/Kashgar', 'Asia/Kathmandu', 'Asia/Katmandu', 'Asia/Khandyga', 'Asia/Kolkata', 'Asia/Krasnoyarsk', 'Asia/Kuala_Lumpur', 'Asia/Kuching', 'Asia/Kuwait', 'Asia/Macao', 'Asia/Macau', 'Asia/Magadan', 'Asia/Makassar', 'Asia/Manila', 'Asia/Muscat', 'Asia/Nicosia', 'Asia/Novokuznetsk', 'Asia/Novosibirsk', 'Asia/Omsk', 'Asia/Oral', 'Asia/Phnom_Penh', 'Asia/Pontianak', 'Asia/Pyongyang', 'Asia/Qatar', 'Asia/Qostanay', 'Asia/Qyzylorda', 'Asia/Rangoon', 'Asia/Riyadh', 'Asia/Saigon', 'Asia/Sakhalin', 'Asia/Samarkand', 'Asia/Seoul', 'Asia/Shanghai', 'Asia/Singapore', 'Asia/Srednekolymsk', 'Asia/Taipei', 'Asia/Tashkent', 'Asia/Tbilisi', 'Asia/Tehran', 'Asia/Tel_Aviv', 'Asia/Thimbu', 'Asia/Thimphu', 'Asia/Tokyo', 'Asia/Tomsk', 'Asia/Ujung_Pandang', 'Asia/Ulaanbaatar', 'Asia/Ulan_Bator', 'Asia/Urumqi', 'Asia/Ust-Nera', 'Asia/Vientiane', 'Asia/Vladivostok', 'Asia/Yakutsk', 'Asia/Yangon', 'Asia/Yekaterinburg', 'Asia/Yerevan', 'Atlantic/Azores', 'Atlantic/Bermuda', 'Atlantic/Canary', 'Atlantic/Cape_Verde', 'Atlantic/Faeroe', 'Atlantic/Faroe', 'Atlantic/Jan_Mayen', 'Atlantic/Madeira', 'Atlantic/Reykjavik', 'Atlantic/South_Georgia', 'Atlantic/St_Helena', 'Atlantic/Stanley', 'Australia/ACT', 'Australia/Adelaide', 'Australia/Brisbane', 'Australia/Broken_Hill', 'Australia/Canberra', 'Australia/Currie', 'Australia/Darwin', 'Australia/Eucla', 'Australia/Hobart', 'Australia/LHI', 'Australia/Lindeman', 'Australia/Lord_Howe', 'Australia/Melbourne', 'Australia/NSW', 'Australia/North', 'Australia/Perth', 'Australia/Queensland', 'Australia/South', 'Australia/Sydney', 'Australia/Tasmania', 'Australia/Victoria', 'Australia/West', 'Australia/Yancowinna', 'Brazil/Acre', 'Brazil/DeNoronha', 'Brazil/East', 'Brazil/West', 'CET', 'CST6CDT', 'Canada/Atlantic', 'Canada/Central', 'Canada/Eastern', 'Canada/Mountain', 'Canada/Newfoundland', 'Canada/Pacific', 'Canada/Saskatchewan', 'Canada/Yukon', 'Chile/Continental', 'Chile/EasterIsland', 'Cuba', 'EET', 'EST', 'EST5EDT', 'Egypt', 'Eire', 'Etc/GMT', 'Etc/GMT+0', 'Etc/GMT+1', 'Etc/GMT+10', 'Etc/GMT+11', 'Etc/GMT+12', 'Etc/GMT+2', 'Etc/GMT+3', 'Etc/GMT+4', 'Etc/GMT+5', 'Etc/GMT+6', 'Etc/GMT+7', 'Etc/GMT+8', 'Etc/GMT+9', 'Etc/GMT-0', 'Etc/GMT-1', 'Etc/GMT-10', 'Etc/GMT-11', 'Etc/GMT-12', 'Etc/GMT-13', 'Etc/GMT-14', 'Etc/GMT-2', 'Etc/GMT-3', 'Etc/GMT-4', 'Etc/GMT-5', 'Etc/GMT-6', 'Etc/GMT-7', 'Etc/GMT-8', 'Etc/GMT-9', 'Etc/GMT0', 'Etc/Greenwich', 'Etc/UCT', 'Etc/UTC', 'Etc/Universal', 'Etc/Zulu', 'Europe/Amsterdam', 'Europe/Andorra', 'Europe/Astrakhan', 'Europe/Athens', 'Europe/Belfast', 'Europe/Belgrade', 'Europe/Berlin', 'Europe/Bratislava', 'Europe/Brussels', 'Europe/Bucharest', 'Europe/Budapest', 'Europe/Busingen', 'Europe/Chisinau', 'Europe/Copenhagen', 'Europe/Dublin', 'Europe/Gibraltar', 'Europe/Guernsey', 'Europe/Helsinki', 'Europe/Isle_of_Man', 'Europe/Istanbul', 'Europe/Jersey', 'Europe/Kaliningrad', 'Europe/Kiev', 'Europe/Kirov', 'Europe/Kyiv', 'Europe/Lisbon', 'Europe/Ljubljana', 'Europe/London', 'Europe/Luxembourg', 'Europe/Madrid', 'Europe/Malta', 'Europe/Mariehamn', 'Europe/Minsk', 'Europe/Monaco', 'Europe/Moscow', 'Europe/Nicosia', 'Europe/Oslo', 'Europe/Paris', 'Europe/Podgorica', 'Europe/Prague', 'Europe/Riga', 'Europe/Rome', 'Europe/Samara', 'Europe/San_Marino', 'Europe/Sarajevo', 'Europe/Saratov', 'Europe/Simferopol', 'Europe/Skopje', 'Europe/Sofia', 'Europe/Stockholm', 'Europe/Tallinn', 'Europe/Tirane', 'Europe/Tiraspol', 'Europe/Ulyanovsk', 'Europe/Uzhgorod', 'Europe/Vaduz', 'Europe/Vatican', 'Europe/Vienna', 'Europe/Vilnius', 'Europe/Volgograd', 'Europe/Warsaw', 'Europe/Zagreb', 'Europe/Zaporozhye', 'Europe/Zurich', 'GB', 'GB-Eire', 'GMT', 'GMT+0', 'GMT-0', 'GMT0', 'Greenwich', 'HST', 'Hongkong', 'Iceland', 'Indian/Antananarivo', 'Indian/Chagos', 'Indian/Christmas', 'Indian/Cocos', 'Indian/Comoro', 'Indian/Kerguelen', 'Indian/Mahe', 'Indian/Maldives', 'Indian/Mauritius', 'Indian/Mayotte', 'Indian/Reunion', 'Iran', 'Israel', 'Jamaica', 'Japan', 'Kwajalein', 'Libya', 'MET', 'MST', 'MST7MDT', 'Mexico/BajaNorte', 'Mexico/BajaSur', 'Mexico/General', 'NZ', 'NZ-CHAT', 'Navajo', 'PRC', 'PST8PDT', 'Pacific/Apia', 'Pacific/Auckland', 'Pacific/Bougainville', 'Pacific/Chatham', 'Pacific/Chuuk', 'Pacific/Easter', 'Pacific/Efate', 'Pacific/Enderbury', 'Pacific/Fakaofo', 'Pacific/Fiji', 'Pacific/Funafuti', 'Pacific/Galapagos', 'Pacific/Gambier', 'Pacific/Guadalcanal', 'Pacific/Guam', 'Pacific/Honolulu', 'Pacific/Johnston', 'Pacific/Kanton', 'Pacific/Kiritimati', 'Pacific/Kosrae', 'Pacific/Kwajalein', 'Pacific/Majuro', 'Pacific/Marquesas', 'Pacific/Midway', 'Pacific/Nauru', 'Pacific/Niue', 'Pacific/Norfolk', 'Pacific/Noumea', 'Pacific/Pago_Pago', 'Pacific/Palau', 'Pacific/Pitcairn', 'Pacific/Pohnpei', 'Pacific/Ponape', 'Pacific/Port_Moresby', 'Pacific/Rarotonga', 'Pacific/Saipan', 'Pacific/Samoa', 'Pacific/Tahiti', 'Pacific/Tarawa', 'Pacific/Tongatapu', 'Pacific/Truk', 'Pacific/Wake', 'Pacific/Wallis', 'Pacific/Yap', 'Poland', 'Portugal', 'ROC', 'ROK', 'Singapore', 'Turkey', 'UCT', 'US/Alaska', 'US/Aleutian', 'US/Arizona', 'US/Central', 'US/East-Indiana', 'US/Eastern', 'US/Hawaii', 'US/Indiana-Starke', 'US/Michigan', 'US/Mountain', 'US/Pacific', 'US/Samoa', 'UTC', 'Universal', 'W-SU', 'WET', 'Zulu']\n",
      "\n"
     ]
    }
   ],
   "source": [
    "##instalar cosas pq se ralla, ya de paso así se ejecutan comandos ojo!\n",
    "import sys\n",
    "!{sys.executable} -m pip install --upgrade pip\n",
    "!{sys.executable} -m pip install pytz\n",
    "\n",
    "from datetime import datetime\n",
    "import pytz\n",
    "\n",
    "#mostrar todas las zonas horarias\n",
    "\n",
    "print(pytz.all_timezones)\n",
    "print(\"\")"
   ]
  },
  {
   "cell_type": "markdown",
   "metadata": {},
   "source": [
    "# Sentencia de Decisión IF/ELSE\n",
    "<p><b>If</b> determina la condición y el bloque de sentencias</p>\n",
    "<p><b>Else</b> marca el bloque de setntencias que no cumple la condición</p>\n",
    "<p><b>Elif</b> simplificación de un elseif (Entoncessis)</p>\n",
    "<p>La salida es <b>TRUE</b> o <b>FALSE</p></p>"
   ]
  },
  {
   "cell_type": "code",
   "execution_count": 6,
   "metadata": {},
   "outputs": [
    {
     "name": "stdout",
     "output_type": "stream",
     "text": [
      "El Número mayor es 20\n"
     ]
    }
   ],
   "source": [
    "a = 10\n",
    "b = 20\n",
    "if (a > b):\n",
    "    print (f\"El Númeero mayor es {a}\")\n",
    "elif (a < b):\n",
    "    print (f\"El Número mayor es {b}\")\n",
    "else:\n",
    "    print (f\"Los dos números son iguales\")"
   ]
  },
  {
   "cell_type": "markdown",
   "metadata": {},
   "source": [
    "# Sentencia de Repetición FOR\n",
    "\n",
    "<p><b>Las sentencias de repetición FOR</b> ejecutan bloques de código de forma repetida</p>\n",
    "<p>La sentencia de repetición for se emplea para recorrer y trabajar con las coleciones</p>\n",
    "<p><b>Range</b> nos permite codificar contadores</p>\n",
    "<p><b>Continue</b> continua con la siguiente operación de incremento</p>\n",
    "<p><b>Break</b> finaliza el bucle For</p>"
   ]
  },
  {
   "cell_type": "code",
   "execution_count": 26,
   "metadata": {},
   "outputs": [
    {
     "name": "stdout",
     "output_type": "stream",
     "text": [
      "####################################################\n",
      "1 limón\n",
      "2 naranja\n",
      "3 pomelo\n",
      "4 lima\n",
      "5 mandarina\n",
      "####################################################\n"
     ]
    }
   ],
   "source": [
    "#Declaración de variables\n",
    "citricos = [\"limón\", \"naranja\", \"pomelo\", \"lima\", \"mandarina\"]\n",
    "cuentafrutas = 0\n",
    "print(\"####################################################\")\n",
    "\n",
    "#Usamos FOR para recorrer colecciones de datos con IN\n",
    "#NO tenemos la posición de los elementos.\n",
    "for fruta in citricos:\n",
    "    cuentafrutas = cuentafrutas + 1 # suma uno al contador de fruta\n",
    "    \n",
    "    print(center(cuentafrutas, fruta))\n",
    "\n",
    "print(\"####################################################\")\n",
    "\n"
   ]
  }
 ],
 "metadata": {
  "kernelspec": {
   "display_name": "Python 3",
   "language": "python",
   "name": "python3"
  },
  "language_info": {
   "codemirror_mode": {
    "name": "ipython",
    "version": 3
   },
   "file_extension": ".py",
   "mimetype": "text/x-python",
   "name": "python",
   "nbconvert_exporter": "python",
   "pygments_lexer": "ipython3",
   "version": "3.12.0"
  }
 },
 "nbformat": 4,
 "nbformat_minor": 2
}
